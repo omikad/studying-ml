{
 "cells": [
  {
   "cell_type": "markdown",
   "metadata": {},
   "source": [
    "https://github.com/janivanecky/Artistic-Style\n"
   ]
  },
  {
   "cell_type": "code",
   "execution_count": 1,
   "metadata": {
    "collapsed": true
   },
   "outputs": [],
   "source": [
    "import argparse\n",
    "import numpy as np\n",
    "import tensorflow as tf\n",
    "import vgg\n",
    "import style\n",
    "from matplotlib.pyplot import imshow\n",
    "from PIL import Image\n",
    "\n",
    "%matplotlib inline\n",
    "%load_ext autoreload\n",
    "%autoreload 2"
   ]
  },
  {
   "cell_type": "code",
   "execution_count": 2,
   "metadata": {
    "collapsed": true
   },
   "outputs": [],
   "source": [
    "args_crop='left'\n",
    "args_shape=None\n",
    "args_scale=1.0\n",
    "args_style_weight = 0.5"
   ]
  },
  {
   "cell_type": "code",
   "execution_count": 3,
   "metadata": {
    "collapsed": false
   },
   "outputs": [],
   "source": [
    "content_image = style.load_image('me.jpeg', args_crop, args_shape, args_scale)\n",
    "WIDTH, HEIGHT = content_image.shape[1], content_image.shape[0]\n",
    "content_image = content_image.reshape((1, HEIGHT, WIDTH, 3))\n",
    "style_image = style.load_image('colors.jpg', args_crop=None, shape=(WIDTH, HEIGHT))\n",
    "style_image = style_image.reshape((1, HEIGHT, WIDTH, 3))"
   ]
  },
  {
   "cell_type": "code",
   "execution_count": 4,
   "metadata": {
    "collapsed": false
   },
   "outputs": [
    {
     "name": "stdout",
     "output_type": "stream",
     "text": [
      "prepare networks\n",
      "calc layers\n",
      "compose the loss function\n",
      "set up optimizer \n",
      "training:\n",
      "Iteration 0: 440323424.0\n",
      "Iteration 25: 78721328.0\n",
      "Iteration 50: 35470168.0\n",
      "Iteration 75: 20391070.0\n",
      "Iteration 100: 33323594.0\n",
      "Iteration 125: 15280968.0\n",
      "Iteration 150: 10756398.0\n",
      "Iteration 175: 22378704.0\n",
      "Iteration 200: 10052283.0\n",
      "Iteration 225: 11310685.0\n",
      "Iteration 250: 19861130.0\n",
      "Iteration 275: 8929439.0\n",
      "Iteration 300: 7651499.0\n",
      "Iteration 325: 48344636.0\n",
      "Iteration 350: 11341407.0\n",
      "Iteration 375: 7208068.0\n",
      "Iteration 400: 7286821.0\n",
      "Iteration 425: 26273312.0\n",
      "Iteration 450: 9201580.0\n",
      "Iteration 475: 6106215.0\n",
      "Iteration 500: 5520944.0\n",
      "Iteration 525: 27424884.0\n",
      "Iteration 550: 12382667.0\n",
      "Iteration 575: 6239554.0\n",
      "Iteration 600: 5161607.0\n",
      "Iteration 625: 5222658.0\n",
      "Iteration 650: 11445011.0\n",
      "Iteration 675: 14196960.0\n",
      "('done', 'min loss=', 5161607.0)\n"
     ]
    }
   ],
   "source": [
    "print('prepare networks')\n",
    "images = np.concatenate((content_image, style_image), 0).astype(np.float32)\n",
    "constants = tf.constant(images)\n",
    "with tf.name_scope(\"constant\"):\n",
    "    vgg_const = vgg.Vgg19()\n",
    "    vgg_const.build(constants)\n",
    "\n",
    "# use noise as an initial image \n",
    "#input_image = tf.Variable(tf.truncated_normal([1, HEIGHT, WIDTH, 3], 0.5, 0.1))\n",
    "# use content image as an initial image\n",
    "input_image = tf.Variable(np.expand_dims(images[0,:,:,:], 0))\n",
    "with tf.name_scope(\"variable\"):\n",
    "    vgg_var = vgg.Vgg19()\n",
    "    vgg_var.build(input_image)\n",
    "\n",
    "# which layers we want to use?\n",
    "# style_layers_const = [vgg_const.conv1_1, vgg_const.conv2_1, vgg_const.conv3_1, vgg_const.conv4_1, vgg_const.conv5_1]\n",
    "# style_layers_var = [vgg_var.conv1_1, vgg_var.conv2_1, vgg_var.conv3_1, vgg_var.conv4_1, vgg_var.conv5_1]\n",
    "# content_layer_const = vgg_const.conv4_2\n",
    "# content_layer_var = vgg_var.conv4_2\n",
    "style_layers_const = [vgg_const.conv1_1, vgg_const.conv2_1, vgg_const.conv3_1, vgg_const.conv4_1, vgg_const.conv5_1]\n",
    "style_layers_var = [vgg_var.conv1_1, vgg_var.conv2_1, vgg_var.conv3_1, vgg_var.conv4_1, vgg_var.conv5_1]\n",
    "content_layer_const = vgg_const.conv4_4\n",
    "content_layer_var = vgg_var.conv4_4\n",
    "\n",
    "# get activations of content and style images as TF constants\n",
    "print('calc layers')\n",
    "sess = tf.Session()\n",
    "layers = sess.run([content_layer_const] + style_layers_const)\n",
    "content_layer_const = tf.constant(np.expand_dims(layers[0][0,:,:,:], 0))\n",
    "style_layers_const = [tf.constant(np.expand_dims(layer[1,:,:,:], 0)) for layer in layers[1:]]\n",
    "\n",
    "print('compose the loss function')\n",
    "content_style_ratio = 1e-4\n",
    "loss_content = style.content_loss(content_layer_const, content_layer_var)\n",
    "loss_style = style.style_loss(style_layers_const, style_layers_var)\n",
    "style_weight = float(args_style_weight)\n",
    "overall_loss = (1 - style_weight) * content_style_ratio * loss_content + style_weight * loss_style\n",
    "\n",
    "print('set up optimizer ')\n",
    "output_image = tf.clip_by_value(tf.squeeze(input_image, [0]), 0, 1)\n",
    "train = tf.train.AdamOptimizer(learning_rate=0.05).minimize(overall_loss)\n",
    "\n",
    "print('training:')\n",
    "init = tf.initialize_all_variables()\n",
    "sess.run(init)\n",
    "min_loss, best_image = float(\"inf\"), None\n",
    "for i in xrange(0, 700):\n",
    "    image, loss, _ = sess.run([output_image, overall_loss, train])\n",
    "    if i % 25 == 0:\n",
    "        print 'Iteration {}: {}'.format(i, loss)\n",
    "        if(loss < min_loss):\n",
    "            min_loss, best_image = loss, image\n",
    "\n",
    "# save the result\n",
    "best_image = np.clip(best_image, 0, 1)\n",
    "best_image = np.reshape(best_image, (HEIGHT,WIDTH,3))\n",
    "result = Image.fromarray(np.uint8(best_image * 255))\n",
    "#result.save(args.output_image)\n",
    "result.show()\n",
    "print('done', 'min loss=', min_loss)"
   ]
  },
  {
   "cell_type": "code",
   "execution_count": null,
   "metadata": {
    "collapsed": true
   },
   "outputs": [],
   "source": []
  }
 ],
 "metadata": {
  "kernelspec": {
   "display_name": "Python 2",
   "language": "python",
   "name": "python2"
  },
  "language_info": {
   "codemirror_mode": {
    "name": "ipython",
    "version": 2
   },
   "file_extension": ".py",
   "mimetype": "text/x-python",
   "name": "python",
   "nbconvert_exporter": "python",
   "pygments_lexer": "ipython2",
   "version": "2.7.11+"
  }
 },
 "nbformat": 4,
 "nbformat_minor": 0
}

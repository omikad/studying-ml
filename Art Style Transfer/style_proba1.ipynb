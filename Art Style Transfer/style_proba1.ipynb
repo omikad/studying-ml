{
 "cells": [
  {
   "cell_type": "markdown",
   "metadata": {},
   "source": [
    "https://github.com/janivanecky/Artistic-Style\n"
   ]
  },
  {
   "cell_type": "code",
   "execution_count": 1,
   "metadata": {
    "collapsed": true
   },
   "outputs": [],
   "source": [
    "import argparse\n",
    "import numpy as np\n",
    "import tensorflow as tf\n",
    "import vgg\n",
    "import style\n",
    "from matplotlib.pyplot import imshow\n",
    "from PIL import Image\n",
    "\n",
    "%matplotlib inline\n",
    "%load_ext autoreload\n",
    "%autoreload 2"
   ]
  },
  {
   "cell_type": "code",
   "execution_count": 2,
   "metadata": {
    "collapsed": true
   },
   "outputs": [],
   "source": [
    "args_crop='left'\n",
    "args_shape=None\n",
    "args_scale=1.0\n",
    "args_style_weight = 0.5"
   ]
  },
  {
   "cell_type": "code",
   "execution_count": 4,
   "metadata": {},
   "outputs": [],
   "source": [
    "content_image = style.load_image('me.jpeg', args_crop, args_shape, args_scale)\n",
    "WIDTH, HEIGHT = content_image.shape[1], content_image.shape[0]\n",
    "content_image = content_image.reshape((1, HEIGHT, WIDTH, 3))\n",
    "style_image = style.load_image('uae.jpg', args_crop=None, shape=(WIDTH, HEIGHT))\n",
    "style_image = style_image.reshape((1, HEIGHT, WIDTH, 3))"
   ]
  },
  {
   "cell_type": "code",
   "execution_count": 5,
   "metadata": {},
   "outputs": [
    {
     "name": "stdout",
     "output_type": "stream",
     "text": [
      "prepare networks\n"
     ]
    },
    {
     "ename": "IOError",
     "evalue": "[Errno 2] No such file or directory: '/Users/spastukhov/Documents/ds/studying-ml/Art Style Transfer/vgg19.npy'",
     "output_type": "error",
     "traceback": [
      "\u001b[0;31m---------------------------------------------------------------------------\u001b[0m",
      "\u001b[0;31mIOError\u001b[0m                                   Traceback (most recent call last)",
      "\u001b[0;32m<ipython-input-5-3532dca2ede1>\u001b[0m in \u001b[0;36m<module>\u001b[0;34m()\u001b[0m\n\u001b[1;32m      3\u001b[0m \u001b[0mconstants\u001b[0m \u001b[0;34m=\u001b[0m \u001b[0mtf\u001b[0m\u001b[0;34m.\u001b[0m\u001b[0mconstant\u001b[0m\u001b[0;34m(\u001b[0m\u001b[0mimages\u001b[0m\u001b[0;34m)\u001b[0m\u001b[0;34m\u001b[0m\u001b[0m\n\u001b[1;32m      4\u001b[0m \u001b[0;32mwith\u001b[0m \u001b[0mtf\u001b[0m\u001b[0;34m.\u001b[0m\u001b[0mname_scope\u001b[0m\u001b[0;34m(\u001b[0m\u001b[0;34m\"constant\"\u001b[0m\u001b[0;34m)\u001b[0m\u001b[0;34m:\u001b[0m\u001b[0;34m\u001b[0m\u001b[0m\n\u001b[0;32m----> 5\u001b[0;31m     \u001b[0mvgg_const\u001b[0m \u001b[0;34m=\u001b[0m \u001b[0mvgg\u001b[0m\u001b[0;34m.\u001b[0m\u001b[0mVgg19\u001b[0m\u001b[0;34m(\u001b[0m\u001b[0;34m)\u001b[0m\u001b[0;34m\u001b[0m\u001b[0m\n\u001b[0m\u001b[1;32m      6\u001b[0m     \u001b[0mvgg_const\u001b[0m\u001b[0;34m.\u001b[0m\u001b[0mbuild\u001b[0m\u001b[0;34m(\u001b[0m\u001b[0mconstants\u001b[0m\u001b[0;34m)\u001b[0m\u001b[0;34m\u001b[0m\u001b[0m\n\u001b[1;32m      7\u001b[0m \u001b[0;34m\u001b[0m\u001b[0m\n",
      "\u001b[0;32m/Users/spastukhov/Documents/ds/studying-ml/Art Style Transfer/vgg.pyc\u001b[0m in \u001b[0;36m__init__\u001b[0;34m(self, vgg19_npy_path)\u001b[0m\n\u001b[1;32m     17\u001b[0m             \u001b[0mvgg19_npy_path\u001b[0m \u001b[0;34m=\u001b[0m \u001b[0mpath\u001b[0m\u001b[0;34m\u001b[0m\u001b[0m\n\u001b[1;32m     18\u001b[0m \u001b[0;34m\u001b[0m\u001b[0m\n\u001b[0;32m---> 19\u001b[0;31m         \u001b[0mself\u001b[0m\u001b[0;34m.\u001b[0m\u001b[0mdata_dict\u001b[0m \u001b[0;34m=\u001b[0m \u001b[0mnp\u001b[0m\u001b[0;34m.\u001b[0m\u001b[0mload\u001b[0m\u001b[0;34m(\u001b[0m\u001b[0mvgg19_npy_path\u001b[0m\u001b[0;34m,\u001b[0m \u001b[0mencoding\u001b[0m\u001b[0;34m=\u001b[0m\u001b[0;34m'latin1'\u001b[0m\u001b[0;34m)\u001b[0m\u001b[0;34m.\u001b[0m\u001b[0mitem\u001b[0m\u001b[0;34m(\u001b[0m\u001b[0;34m)\u001b[0m\u001b[0;34m\u001b[0m\u001b[0m\n\u001b[0m\u001b[1;32m     20\u001b[0m \u001b[0;34m\u001b[0m\u001b[0m\n\u001b[1;32m     21\u001b[0m     \u001b[0;32mdef\u001b[0m \u001b[0mbuild\u001b[0m\u001b[0;34m(\u001b[0m\u001b[0mself\u001b[0m\u001b[0;34m,\u001b[0m \u001b[0mrgb\u001b[0m\u001b[0;34m)\u001b[0m\u001b[0;34m:\u001b[0m\u001b[0;34m\u001b[0m\u001b[0m\n",
      "\u001b[0;32m/Users/spastukhov/Documents/ds/lib/python2.7/site-packages/numpy/lib/npyio.pyc\u001b[0m in \u001b[0;36mload\u001b[0;34m(file, mmap_mode, allow_pickle, fix_imports, encoding)\u001b[0m\n\u001b[1;32m    368\u001b[0m     \u001b[0mown_fid\u001b[0m \u001b[0;34m=\u001b[0m \u001b[0mFalse\u001b[0m\u001b[0;34m\u001b[0m\u001b[0m\n\u001b[1;32m    369\u001b[0m     \u001b[0;32mif\u001b[0m \u001b[0misinstance\u001b[0m\u001b[0;34m(\u001b[0m\u001b[0mfile\u001b[0m\u001b[0;34m,\u001b[0m \u001b[0mbasestring\u001b[0m\u001b[0;34m)\u001b[0m\u001b[0;34m:\u001b[0m\u001b[0;34m\u001b[0m\u001b[0m\n\u001b[0;32m--> 370\u001b[0;31m         \u001b[0mfid\u001b[0m \u001b[0;34m=\u001b[0m \u001b[0mopen\u001b[0m\u001b[0;34m(\u001b[0m\u001b[0mfile\u001b[0m\u001b[0;34m,\u001b[0m \u001b[0;34m\"rb\"\u001b[0m\u001b[0;34m)\u001b[0m\u001b[0;34m\u001b[0m\u001b[0m\n\u001b[0m\u001b[1;32m    371\u001b[0m         \u001b[0mown_fid\u001b[0m \u001b[0;34m=\u001b[0m \u001b[0mTrue\u001b[0m\u001b[0;34m\u001b[0m\u001b[0m\n\u001b[1;32m    372\u001b[0m     \u001b[0;32melif\u001b[0m \u001b[0mis_pathlib_path\u001b[0m\u001b[0;34m(\u001b[0m\u001b[0mfile\u001b[0m\u001b[0;34m)\u001b[0m\u001b[0;34m:\u001b[0m\u001b[0;34m\u001b[0m\u001b[0m\n",
      "\u001b[0;31mIOError\u001b[0m: [Errno 2] No such file or directory: '/Users/spastukhov/Documents/ds/studying-ml/Art Style Transfer/vgg19.npy'"
     ]
    }
   ],
   "source": [
    "print('prepare networks')\n",
    "images = np.concatenate((content_image, style_image), 0).astype(np.float32)\n",
    "constants = tf.constant(images)\n",
    "with tf.name_scope(\"constant\"):\n",
    "    vgg_const = vgg.Vgg19()\n",
    "    vgg_const.build(constants)\n",
    "\n",
    "# use noise as an initial image \n",
    "#input_image = tf.Variable(tf.truncated_normal([1, HEIGHT, WIDTH, 3], 0.5, 0.1))\n",
    "# use content image as an initial image\n",
    "input_image = tf.Variable(np.expand_dims(images[0,:,:,:], 0))\n",
    "with tf.name_scope(\"variable\"):\n",
    "    vgg_var = vgg.Vgg19()\n",
    "    vgg_var.build(input_image)\n",
    "\n",
    "# which layers we want to use?\n",
    "# style_layers_const = [vgg_const.conv1_1, vgg_const.conv2_1, vgg_const.conv3_1, vgg_const.conv4_1, vgg_const.conv5_1]\n",
    "# style_layers_var = [vgg_var.conv1_1, vgg_var.conv2_1, vgg_var.conv3_1, vgg_var.conv4_1, vgg_var.conv5_1]\n",
    "# content_layer_const = vgg_const.conv4_2\n",
    "# content_layer_var = vgg_var.conv4_2\n",
    "style_layers_const = [vgg_const.conv1_1, vgg_const.conv2_1, vgg_const.conv3_1, vgg_const.conv4_1, vgg_const.conv5_1]\n",
    "style_layers_var = [vgg_var.conv1_1, vgg_var.conv2_1, vgg_var.conv3_1, vgg_var.conv4_1, vgg_var.conv5_1]\n",
    "content_layer_const = vgg_const.conv4_4\n",
    "content_layer_var = vgg_var.conv4_4\n",
    "\n",
    "# get activations of content and style images as TF constants\n",
    "print('calc layers')\n",
    "sess = tf.Session()\n",
    "layers = sess.run([content_layer_const] + style_layers_const)\n",
    "content_layer_const = tf.constant(np.expand_dims(layers[0][0,:,:,:], 0))\n",
    "style_layers_const = [tf.constant(np.expand_dims(layer[1,:,:,:], 0)) for layer in layers[1:]]\n",
    "\n",
    "print('compose the loss function')\n",
    "content_style_ratio = 1e-4\n",
    "loss_content = style.content_loss(content_layer_const, content_layer_var)\n",
    "loss_style = style.style_loss(style_layers_const, style_layers_var)\n",
    "style_weight = float(args_style_weight)\n",
    "overall_loss = (1 - style_weight) * content_style_ratio * loss_content + style_weight * loss_style\n",
    "\n",
    "print('set up optimizer ')\n",
    "output_image = tf.clip_by_value(tf.squeeze(input_image, [0]), 0, 1)\n",
    "train = tf.train.AdamOptimizer(learning_rate=0.05).minimize(overall_loss)\n",
    "\n",
    "print('training:')\n",
    "init = tf.initialize_all_variables()\n",
    "sess.run(init)\n",
    "min_loss, best_image = float(\"inf\"), None\n",
    "for i in xrange(0, 700):\n",
    "    image, loss, _ = sess.run([output_image, overall_loss, train])\n",
    "    if i % 25 == 0:\n",
    "        print 'Iteration {}: {}'.format(i, loss)\n",
    "        if(loss < min_loss):\n",
    "            min_loss, best_image = loss, image\n",
    "\n",
    "# save the result\n",
    "best_image = np.clip(best_image, 0, 1)\n",
    "best_image = np.reshape(best_image, (HEIGHT,WIDTH,3))\n",
    "result = Image.fromarray(np.uint8(best_image * 255))\n",
    "#result.save(args.output_image)\n",
    "result.show()\n",
    "print('done', 'min loss=', min_loss)"
   ]
  },
  {
   "cell_type": "code",
   "execution_count": null,
   "metadata": {
    "collapsed": true
   },
   "outputs": [],
   "source": []
  }
 ],
 "metadata": {
  "kernelspec": {
   "display_name": "Python 2",
   "language": "python",
   "name": "python2"
  },
  "language_info": {
   "codemirror_mode": {
    "name": "ipython",
    "version": 2
   },
   "file_extension": ".py",
   "mimetype": "text/x-python",
   "name": "python",
   "nbconvert_exporter": "python",
   "pygments_lexer": "ipython2",
   "version": "2.7.10"
  }
 },
 "nbformat": 4,
 "nbformat_minor": 1
}

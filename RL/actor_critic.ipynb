{
 "cells": [
  {
   "cell_type": "code",
   "execution_count": 1,
   "metadata": {},
   "outputs": [],
   "source": [
    "%matplotlib inline\n",
    "import gym\n",
    "import math\n",
    "import matplotlib\n",
    "import matplotlib.pyplot as plt\n",
    "import numpy as np\n",
    "import pandas as pd\n",
    "import tensorflow as tf\n",
    "from collections import deque\n",
    "from IPython import display\n",
    "from JSAnimation.IPython_display import display_animation\n",
    "from matplotlib import animation\n",
    "from scipy import stats\n",
    "from training_methods import *\n",
    "%load_ext autoreload\n",
    "%autoreload\n",
    "\n",
    "run_name = 0"
   ]
  },
  {
   "cell_type": "code",
   "execution_count": 2,
   "metadata": {},
   "outputs": [
    {
     "name": "stderr",
     "output_type": "stream",
     "text": [
      "[2017-08-19 09:58:58,149] Making new env: CartPole-v1\n"
     ]
    },
    {
     "name": "stdout",
     "output_type": "stream",
     "text": [
      "Actions: 2, Observation space (4,), 4 parameters\n"
     ]
    }
   ],
   "source": [
    "# print(env.spec.max_episode_steps)\n",
    "\n",
    "env = gym.make('CartPole-v1')\n",
    "env.my_preprocess_input = lambda x: x\n",
    "\n",
    "# env = gym.make('MountainCar-v0')\n",
    "# env.my_preprocess_input = lambda x: x\n",
    "\n",
    "# env = gym.make('Breakout-v0')\n",
    "# env.my_preprocess_input = preprocess_input_breakout_v0\n",
    "\n",
    "# env = gym.make('Pong-v0')\n",
    "# env.my_preprocess_input = preprocess_input_pong_v0\n",
    "\n",
    "# env.render(close=True)\n",
    "# plt.imshow(env.render('rgb_array'))\n",
    "print('Actions: {}, Observation space {}, {} parameters'.format(\n",
    "    env.action_space.n, env.observation_space.shape, np.prod(env.observation_space.shape)))"
   ]
  },
  {
   "cell_type": "markdown",
   "metadata": {},
   "source": [
    "## Basic Actor-Critic"
   ]
  },
  {
   "cell_type": "code",
   "execution_count": 27,
   "metadata": {},
   "outputs": [],
   "source": [
    "class ActorCriticAgent:\n",
    "    def __init__(self, params):\n",
    "        self.params = params\n",
    "        self.memory = deque(maxlen=self.params.max_memory_size)\n",
    "        self._build_actor_model()\n",
    "        self._build_critic_model()\n",
    "\n",
    "    def _build_actor_model(self):\n",
    "        with tf.variable_scope('actor'):\n",
    "            self.actor_x = tf.placeholder(\"float\", [None, self.params.state_size], name=\"State\")\n",
    "            self.actor_y = tf.placeholder(\"float\", [None], name=\"Target\")\n",
    "            self.actor_action = tf.placeholder(tf.int32, [None], name=\"Action\")\n",
    "\n",
    "            h0 = tf.contrib.layers.fully_connected(\n",
    "                inputs=self.actor_x,\n",
    "                num_outputs=20,\n",
    "                activation_fn=tf.nn.relu,\n",
    "                weights_initializer=tf.contrib.layers.xavier_initializer())\n",
    "\n",
    "            h1 = tf.contrib.layers.fully_connected(\n",
    "                inputs=h0,\n",
    "                num_outputs=self.params.action_size,\n",
    "                activation_fn=None,\n",
    "                weights_initializer=tf.contrib.layers.xavier_initializer())\n",
    "            \n",
    "            self.actor_action_probs = tf.nn.softmax(h1)\n",
    "\n",
    "            with tf.variable_scope('apply_actions'):\n",
    "                sh = tf.shape(self.actor_action_probs)\n",
    "                action_flat = tf.reshape(self.actor_action_probs, [-1])\n",
    "                picked_flat = tf.reshape(tf.range(0, sh[0]) * sh[1], [-1]) + self.actor_action\n",
    "                self.picked_action_probs = tf.reshape(tf.gather(action_flat, picked_flat), [sh[0]])\n",
    "\n",
    "            self.actor_loss = tf.reduce_mean(-tf.log(1e-6 + self.picked_action_probs) * self.actor_y)\n",
    "            self.actor_train_op = tf.train.RMSPropOptimizer(learning_rate=self.params.learning_rate, decay=0.99) \\\n",
    "                .minimize(self.actor_loss)\n",
    "\n",
    "    def _build_critic_model(self):\n",
    "        with tf.variable_scope('critic'):\n",
    "            self.critic_x = tf.placeholder(\"float\", [None, self.params.state_size], name=\"State\")\n",
    "            self.critic_y = tf.placeholder(\"float\", [None], name=\"Target\")\n",
    "\n",
    "            h0 = tf.contrib.layers.fully_connected(\n",
    "                inputs=self.critic_x,\n",
    "                num_outputs=20,\n",
    "                activation_fn=tf.nn.relu,\n",
    "                weights_initializer=tf.contrib.layers.xavier_initializer())\n",
    "\n",
    "            self.critic_value = tf.contrib.layers.fully_connected(\n",
    "                inputs=h0,\n",
    "                num_outputs=1,\n",
    "                activation_fn=None,\n",
    "                weights_initializer=tf.contrib.layers.xavier_initializer())\n",
    "            \n",
    "            self.critic_loss = tf.reduce_mean(tf.squared_difference(self.critic_value, self.critic_y))\n",
    "            self.critic_train_op = tf.train.RMSPropOptimizer(learning_rate=self.params.learning_rate, decay=0.99) \\\n",
    "                .minimize(self.critic_loss)\n",
    "            \n",
    "    def remember(self, state, action, reward, next_state, frame):\n",
    "        self.memory.append((state, action, reward, next_state))\n",
    "\n",
    "    def act(self, state, frame):\n",
    "        if np.random.rand() <= self.params.epsilon:\n",
    "            return np.random.randint(0, self.params.action_size)\n",
    "        return self.act_greedy(state, frame)\n",
    "    \n",
    "    def act_greedy(self, state, frame):\n",
    "        act_probs = session.run(self.actor_action_probs, {self.actor_x: [state]})[0]\n",
    "        return np.random.choice(np.arange(len(act_probs)), p=act_probs)\n",
    "#         return np.argmax(act_values)\n",
    "\n",
    "    def think(self, batch_size, episode):\n",
    "        cnt = len(self.memory)\n",
    "        States = np.zeros((cnt, self.params.state_size))\n",
    "        ActorY = np.zeros((cnt))\n",
    "        Actions = np.zeros((cnt), dtype=np.int32)\n",
    "        CriticY = np.zeros((cnt))\n",
    "        \n",
    "        for i in range(cnt):\n",
    "            state, action, reward, next_state = self.memory[i]\n",
    "            \n",
    "            values = session.run(self.critic_value, {self.critic_x: [state, next_state]})\n",
    "            \n",
    "            td = reward + self.params.gamma * values[1][0]\n",
    "            ad = td - values[0][0]\n",
    "            \n",
    "            States[i], ActorY[i], CriticY[i], Actions[i] = state, ad, td, action\n",
    "\n",
    "        P = np.random.permutation(cnt)\n",
    "        for i in range(0, cnt, batch_size):\n",
    "            batch_indexes = P[i: i + batch_size]\n",
    "            states = States[batch_indexes]\n",
    "            actorys = ActorY[batch_indexes]\n",
    "            criticys = CriticY[batch_indexes]\n",
    "            actions = Actions[batch_indexes]\n",
    "            _ = session.run(self.actor_train_op,\n",
    "                            {self.actor_x: states, self.actor_y: actorys, self.actor_action: actions})\n",
    "            _ = session.run(self.critic_train_op,\n",
    "                            {self.critic_x: states, self.critic_y: criticys})"
   ]
  },
  {
   "cell_type": "code",
   "execution_count": 29,
   "metadata": {},
   "outputs": [
    {
     "name": "stdout",
     "output_type": "stream",
     "text": [
      "State shape (4,), actions 2\n",
      "Run: 12\n",
      "episode: 5/100, reward 19.4, frames 12, exploration rate: 0.91\n",
      "episode: 10/100, reward 20.0, frames 12, exploration rate: 0.79\n",
      "episode: 15/100, reward 23.3, frames 35, exploration rate: 0.68\n",
      "episode: 20/100, reward 23.0, frames 17, exploration rate: 0.58\n",
      "episode: 25/100, reward 29.7, frames 82, exploration rate: 0.5\n",
      "episode: 30/100, reward 47.8, frames 26, exploration rate: 0.43\n",
      "episode: 35/100, reward 92.7, frames 267, exploration rate: 0.37\n",
      "episode: 40/100, reward 199.7, frames 216, exploration rate: 0.32\n",
      "episode: 45/100, reward 226.8, frames 165, exploration rate: 0.28\n",
      "episode: 50/100, reward 197.7, frames 234, exploration rate: 0.24\n",
      "episode: 55/100, reward 182.2, frames 99, exploration rate: 0.2\n",
      "episode: 60/100, reward 126.5, frames 95, exploration rate: 0.18\n",
      "episode: 65/100, reward 138.5, frames 275, exploration rate: 0.15\n",
      "episode: 70/100, reward 127.1, frames 157, exploration rate: 0.13\n",
      "episode: 75/100, reward 101.8, frames 71, exploration rate: 0.11\n",
      "episode: 80/100, reward 169.7, frames 250, exploration rate: 0.097\n",
      "episode: 85/100, reward 195.8, frames 228, exploration rate: 0.083\n",
      "episode: 90/100, reward 164.3, frames 172, exploration rate: 0.072\n",
      "episode: 95/100, reward 121.5, frames 48, exploration rate: 0.062\n",
      "episode: 100/100, reward 92.8, frames 99, exploration rate: 0.053\n"
     ]
    },
    {
     "data": {
      "text/plain": [
       "[<matplotlib.lines.Line2D at 0x115989a10>]"
      ]
     },
     "execution_count": 29,
     "metadata": {},
     "output_type": "execute_result"
    },
    {
     "data": {
      "image/png": "[encoded data removed]",
      "text/plain": [
       "<matplotlib.figure.Figure at 0x115b58110>"
      ]
     },
     "metadata": {},
     "output_type": "display_data"
    }
   ],
   "source": [
    "params = LearningParameters(env, episodes_count=100)\n",
    "params.max_frame_in_episode = min(params.max_frame_in_episode, 10000)\n",
    "params.epsilon_min = 0.05\n",
    "\n",
    "if 'session' in locals():\n",
    "    session.close()\n",
    "    tf.reset_default_graph()\n",
    "    if 'tf_writer' in locals():\n",
    "        tf_writer.close()\n",
    "config = tf.ConfigProto(device_count = {'GPU': 0})\n",
    "session = tf.Session(config=config)\n",
    "run_name += 1\n",
    "print('Run: ' + str(run_name))\n",
    "\n",
    "agent = ActorCriticAgent(params)\n",
    "\n",
    "tf_writer = tf.summary.FileWriter('logs/run' + str(run_name), session.graph)\n",
    "\n",
    "session.run(tf.global_variables_initializer())\n",
    "\n",
    "agent, rewards = train_discounted_rewards(env, agent, params, normalize_rewards=True)\n",
    "# agent, rewards = train_reward_is_time(env, agent, params)\n",
    "# agent, rewards = train(env, agent, params)\n",
    "plt.plot(rewards)"
   ]
  }
 ],
 "metadata": {
  "kernelspec": {
   "display_name": "Python 2",
   "language": "python",
   "name": "python2"
  },
  "language_info": {
   "codemirror_mode": {
    "name": "ipython",
    "version": 2
   },
   "file_extension": ".py",
   "mimetype": "text/x-python",
   "name": "python",
   "nbconvert_exporter": "python",
   "pygments_lexer": "ipython2",
   "version": "2.7.10"
  }
 },
 "nbformat": 4,
 "nbformat_minor": 2
}

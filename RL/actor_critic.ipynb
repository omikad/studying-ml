{
 "cells": [
  {
   "cell_type": "code",
   "execution_count": 16,
   "metadata": {},
   "outputs": [
    {
     "name": "stdout",
     "output_type": "stream",
     "text": [
      "The autoreload extension is already loaded. To reload it, use:\n",
      "  %reload_ext autoreload\n"
     ]
    }
   ],
   "source": [
    "%matplotlib inline\n",
    "import gym\n",
    "import math\n",
    "import matplotlib\n",
    "import matplotlib.pyplot as plt\n",
    "import numpy as np\n",
    "import pandas as pd\n",
    "import tensorflow as tf\n",
    "from collections import deque\n",
    "from IPython import display\n",
    "from JSAnimation.IPython_display import display_animation\n",
    "from matplotlib import animation\n",
    "from scipy import stats\n",
    "from training_methods import *\n",
    "%load_ext autoreload\n",
    "%autoreload\n",
    "\n",
    "run_name = 0"
   ]
  },
  {
   "cell_type": "code",
   "execution_count": 2,
   "metadata": {},
   "outputs": [
    {
     "name": "stderr",
     "output_type": "stream",
     "text": [
      "[2017-08-19 11:40:29,709] Making new env: Pong-v0\n"
     ]
    },
    {
     "name": "stdout",
     "output_type": "stream",
     "text": [
      "Actions: 6, Observation space (210, 160, 3), 100800 parameters\n"
     ]
    }
   ],
   "source": [
    "# print(env.spec.max_episode_steps)\n",
    "\n",
    "# env = gym.make('CartPole-v1')\n",
    "# env.my_preprocess_input = lambda x: x\n",
    "\n",
    "# env = gym.make('MountainCar-v0')\n",
    "# env.my_preprocess_input = lambda x: x\n",
    "\n",
    "# env = gym.make('Breakout-v0')\n",
    "# env.my_preprocess_input = preprocess_input_breakout_v0\n",
    "\n",
    "env = gym.make('Pong-v0')\n",
    "env.my_preprocess_input = preprocess_input_pong_v0\n",
    "\n",
    "# env.render(close=True)\n",
    "# plt.imshow(env.render('rgb_array'))\n",
    "print('Actions: {}, Observation space {}, {} parameters'.format(\n",
    "    env.action_space.n, env.observation_space.shape, np.prod(env.observation_space.shape)))"
   ]
  },
  {
   "cell_type": "markdown",
   "metadata": {},
   "source": [
    "## Basic Actor-Critic"
   ]
  },
  {
   "cell_type": "code",
   "execution_count": 3,
   "metadata": {
    "collapsed": true
   },
   "outputs": [],
   "source": [
    "class ActorCriticAgent:\n",
    "    def __init__(self, params):\n",
    "        self.params = params\n",
    "        self.memory = deque(maxlen=self.params.max_memory_size)\n",
    "        self._build_actor_model()\n",
    "        self._build_critic_model()\n",
    "\n",
    "    def _build_actor_model(self):\n",
    "        with tf.variable_scope('actor'):\n",
    "            self.actor_x = tf.placeholder(\"float\", [None, self.params.state_size], name=\"State\")\n",
    "            self.actor_y = tf.placeholder(\"float\", [None], name=\"Target\")\n",
    "            self.actor_action = tf.placeholder(tf.int32, [None], name=\"Action\")\n",
    "\n",
    "            h0 = tf.contrib.layers.fully_connected(\n",
    "                inputs=self.actor_x,\n",
    "                num_outputs=20,\n",
    "                activation_fn=tf.nn.relu,\n",
    "                weights_initializer=tf.contrib.layers.xavier_initializer())\n",
    "\n",
    "            h1 = tf.contrib.layers.fully_connected(\n",
    "                inputs=h0,\n",
    "                num_outputs=self.params.action_size,\n",
    "                activation_fn=None,\n",
    "                weights_initializer=tf.contrib.layers.xavier_initializer())\n",
    "            \n",
    "            self.actor_action_probs = tf.nn.softmax(h1)\n",
    "\n",
    "            with tf.variable_scope('apply_actions'):\n",
    "                sh = tf.shape(self.actor_action_probs)\n",
    "                action_flat = tf.reshape(self.actor_action_probs, [-1])\n",
    "                picked_flat = tf.reshape(tf.range(0, sh[0]) * sh[1], [-1]) + self.actor_action\n",
    "                self.picked_action_probs = tf.reshape(tf.gather(action_flat, picked_flat), [sh[0]])\n",
    "\n",
    "            self.actor_loss = tf.reduce_mean(-tf.log(1e-6 + self.picked_action_probs) * self.actor_y)\n",
    "            self.actor_train_op = tf.train.RMSPropOptimizer(learning_rate=self.params.learning_rate, decay=0.99) \\\n",
    "                .minimize(self.actor_loss)\n",
    "\n",
    "    def _build_critic_model(self):\n",
    "        with tf.variable_scope('critic'):\n",
    "            self.critic_x = tf.placeholder(\"float\", [None, self.params.state_size], name=\"State\")\n",
    "            self.critic_y = tf.placeholder(\"float\", [None], name=\"Target\")\n",
    "\n",
    "            h0 = tf.contrib.layers.fully_connected(\n",
    "                inputs=self.critic_x,\n",
    "                num_outputs=20,\n",
    "                activation_fn=tf.nn.relu,\n",
    "                weights_initializer=tf.contrib.layers.xavier_initializer())\n",
    "\n",
    "            self.critic_value = tf.contrib.layers.fully_connected(\n",
    "                inputs=h0,\n",
    "                num_outputs=1,\n",
    "                activation_fn=None,\n",
    "                weights_initializer=tf.contrib.layers.xavier_initializer())\n",
    "            \n",
    "            self.critic_loss = tf.reduce_mean(tf.squared_difference(self.critic_value, self.critic_y))\n",
    "            self.critic_train_op = tf.train.RMSPropOptimizer(learning_rate=self.params.learning_rate, decay=0.99) \\\n",
    "                .minimize(self.critic_loss)\n",
    "            \n",
    "    def remember(self, state, action, reward, next_state, frame):\n",
    "        self.memory.append((state, action, reward, next_state))\n",
    "\n",
    "    def act(self, state, frame):\n",
    "        if np.random.rand() <= self.params.epsilon:\n",
    "            return np.random.randint(0, self.params.action_size)\n",
    "        return self.act_greedy(state, frame)\n",
    "    \n",
    "    def act_greedy(self, state, frame):\n",
    "        act_probs = session.run(self.actor_action_probs, {self.actor_x: [state]})[0]\n",
    "        return np.random.choice(np.arange(len(act_probs)), p=act_probs)\n",
    "#         return np.argmax(act_values)\n",
    "\n",
    "    def think(self, batch_size, episode):\n",
    "        cnt = len(self.memory)\n",
    "        States = np.zeros((cnt, self.params.state_size))\n",
    "        ActorY = np.zeros((cnt))\n",
    "        Actions = np.zeros((cnt), dtype=np.int32)\n",
    "        CriticY = np.zeros((cnt))\n",
    "        \n",
    "        for i in range(cnt):\n",
    "            state, action, reward, next_state = self.memory[i]\n",
    "            \n",
    "            values = session.run(self.critic_value, {self.critic_x: [state, next_state]})\n",
    "            \n",
    "            td = reward + self.params.gamma * values[1][0]\n",
    "            ad = td - values[0][0]\n",
    "            \n",
    "            States[i], ActorY[i], CriticY[i], Actions[i] = state, ad, td, action\n",
    "\n",
    "        P = np.random.permutation(cnt)\n",
    "        for i in range(0, cnt, batch_size):\n",
    "            batch_indexes = P[i: i + batch_size]\n",
    "            states = States[batch_indexes]\n",
    "            actorys = ActorY[batch_indexes]\n",
    "            criticys = CriticY[batch_indexes]\n",
    "            actions = Actions[batch_indexes]\n",
    "            _ = session.run(self.actor_train_op,\n",
    "                            {self.actor_x: states, self.actor_y: actorys, self.actor_action: actions})\n",
    "            _ = session.run(self.critic_train_op,\n",
    "                            {self.critic_x: states, self.critic_y: criticys})"
   ]
  },
  {
   "cell_type": "code",
   "execution_count": 6,
   "metadata": {},
   "outputs": [
    {
     "name": "stdout",
     "output_type": "stream",
     "text": [
      "State shape (304,), actions 6\n",
      "Run: 2\n",
      "episode: 200/4000, reward -20.4, frames 1203, exploration rate: 0.86\n",
      "episode: 400/4000, reward -20.5, frames 1171, exploration rate: 0.74\n",
      "episode: 600/4000, reward -20.8, frames 1222, exploration rate: 0.64\n",
      "episode: 800/4000, reward -20.2, frames 1247, exploration rate: 0.55\n",
      "episode: 1000/4000, reward -20.6, frames 1294, exploration rate: 0.47\n",
      "episode: 1200/4000, reward -20.3, frames 1347, exploration rate: 0.41\n",
      "episode: 1400/4000, reward -19.8, frames 1344, exploration rate: 0.35\n",
      "episode: 1600/4000, reward -20.7, frames 1083, exploration rate: 0.3\n",
      "episode: 1800/4000, reward -20.0, frames 1271, exploration rate: 0.26\n",
      "episode: 2000/4000, reward -20.2, frames 1201, exploration rate: 0.22\n",
      "episode: 2200/4000, reward -20.2, frames 1421, exploration rate: 0.19\n",
      "episode: 2400/4000, reward -20.9, frames 1072, exploration rate: 0.17\n",
      "episode: 2600/4000, reward -20.3, frames 1484, exploration rate: 0.14\n",
      "episode: 2800/4000, reward -18.7, frames 1139, exploration rate: 0.12\n",
      "episode: 3000/4000, reward -20.9, frames 1015, exploration rate: 0.11\n",
      "episode: 3200/4000, reward -20.7, frames 1130, exploration rate: 0.091\n",
      "episode: 3400/4000, reward -20.3, frames 1054, exploration rate: 0.078\n",
      "episode: 3600/4000, reward -20.2, frames 1019, exploration rate: 0.068\n",
      "episode: 3800/4000, reward -20.3, frames 1338, exploration rate: 0.058\n",
      "episode: 4000/4000, reward -21.0, frames 1053, exploration rate: 0.05\n"
     ]
    },
    {
     "data": {
      "text/plain": [
       "[<matplotlib.lines.Line2D at 0x7f782d6e0b50>]"
      ]
     },
     "execution_count": 6,
     "metadata": {},
     "output_type": "execute_result"
    },
    {
     "data": {
      "image/png": "[encoded data removed]",
      "text/plain": [
       "<matplotlib.figure.Figure at 0x7f783442e110>"
      ]
     },
     "metadata": {},
     "output_type": "display_data"
    }
   ],
   "source": [
    "params = LearningParameters(env, episodes_count=4000)\n",
    "params.max_frame_in_episode = min(params.max_frame_in_episode, 10000)\n",
    "params.epsilon_min = 0.05\n",
    "\n",
    "if 'session' in locals():\n",
    "    session.close()\n",
    "    tf.reset_default_graph()\n",
    "    if 'tf_writer' in locals():\n",
    "        tf_writer.close()\n",
    "config = tf.ConfigProto(device_count = {'GPU': 0})\n",
    "session = tf.Session(config=config)\n",
    "run_name += 1\n",
    "print('Run: ' + str(run_name))\n",
    "\n",
    "agent = ActorCriticAgent(params)\n",
    "\n",
    "tf_writer = tf.summary.FileWriter('logs/run' + str(run_name), session.graph)\n",
    "\n",
    "session.run(tf.global_variables_initializer())\n",
    "\n",
    "agent, rewards = train_discounted_rewards(env, agent, params, normalize_rewards=True)\n",
    "# agent, rewards = train_reward_is_time(env, agent, params)\n",
    "# agent, rewards = train(env, agent, params)\n",
    "plt.plot(rewards)"
   ]
  },
  {
   "cell_type": "code",
   "execution_count": 7,
   "metadata": {},
   "outputs": [
    {
     "name": "stdout",
     "output_type": "stream",
     "text": [
      "episode: 250/5000, reward -20.2, frames 1010, exploration rate: 0.86\n",
      "episode: 500/5000, reward -20.5, frames 1260, exploration rate: 0.74\n",
      "episode: 750/5000, reward -20.7, frames 1324, exploration rate: 0.64\n",
      "episode: 1000/5000, reward -20.6, frames 1050, exploration rate: 0.55\n",
      "episode: 1250/5000, reward -20.7, frames 1152, exploration rate: 0.47\n",
      "episode: 1500/5000, reward -20.8, frames 1258, exploration rate: 0.41\n",
      "episode: 1750/5000, reward -21.0, frames 1167, exploration rate: 0.35\n",
      "episode: 2000/5000, reward -21.0, frames 1131, exploration rate: 0.3\n",
      "episode: 2250/5000, reward -20.3, frames 1248, exploration rate: 0.26\n",
      "episode: 2500/5000, reward -20.7, frames 1130, exploration rate: 0.22\n",
      "episode: 2750/5000, reward -20.7, frames 1260, exploration rate: 0.19\n",
      "episode: 3000/5000, reward -20.5, frames 1548, exploration rate: 0.17\n",
      "episode: 3250/5000, reward -20.9, frames 1188, exploration rate: 0.14\n",
      "episode: 3500/5000, reward -21.0, frames 1134, exploration rate: 0.12\n",
      "episode: 3750/5000, reward -20.5, frames 1137, exploration rate: 0.11\n",
      "episode: 4000/5000, reward -20.7, frames 1257, exploration rate: 0.091\n",
      "episode: 4250/5000, reward -20.8, frames 1115, exploration rate: 0.078\n",
      "episode: 4500/5000, reward -20.6, frames 1096, exploration rate: 0.068\n",
      "episode: 4750/5000, reward -20.5, frames 1066, exploration rate: 0.058\n",
      "episode: 5000/5000, reward -21.0, frames 1276, exploration rate: 0.05\n"
     ]
    },
    {
     "data": {
      "text/plain": [
       "[<matplotlib.lines.Line2D at 0x7f782d5c5710>]"
      ]
     },
     "execution_count": 7,
     "metadata": {},
     "output_type": "execute_result"
    },
    {
     "data": {
      "image/png": "[encoded data removed]",
      "text/plain": [
       "<matplotlib.figure.Figure at 0x7f78b042b490>"
      ]
     },
     "metadata": {},
     "output_type": "display_data"
    }
   ],
   "source": [
    "# Continue learning\n",
    "params.episodes_count = 5000\n",
    "agent, rewards = train_discounted_rewards(env, agent, params, normalize_rewards=True)\n",
    "plt.plot(rewards)"
   ]
  },
  {
   "cell_type": "code",
   "execution_count": 14,
   "metadata": {},
   "outputs": [
    {
     "name": "stdout",
     "output_type": "stream",
     "text": [
      "Total reward: -9.0\n"
     ]
    }
   ],
   "source": [
    "evaluate(env, agent, params, 500)"
   ]
  },
  {
   "cell_type": "code",
   "execution_count": 17,
   "metadata": {},
   "outputs": [
    {
     "data": {
      "image/png": "[encoded data removed]",
      "text/plain": [
       "<matplotlib.figure.Figure at 0x7f78b042ba10>"
      ]
     },
     "metadata": {},
     "output_type": "display_data"
    }
   ],
   "source": [
    "show(env, agent, params, 500, width=19, height=16, greedy=True)"
   ]
  },
  {
   "cell_type": "code",
   "execution_count": 18,
   "metadata": {},
   "outputs": [
    {
     "data": {
      "text/plain": [
       "'models/Pong ActorCriticAgent-9000'"
      ]
     },
     "execution_count": 18,
     "metadata": {},
     "output_type": "execute_result"
    }
   ],
   "source": [
    "# Save rewards/model\n",
    "# pd.DataFrame(rewards).to_csv('models/rewards_40K_50K.csv', header=None)\n",
    "saver = tf.train.Saver()\n",
    "saver.save(session, 'models/Pong ActorCriticAgent', global_step=9000)"
   ]
  }
 ],
 "metadata": {
  "kernelspec": {
   "display_name": "Python 2",
   "language": "python",
   "name": "python2"
  },
  "language_info": {
   "codemirror_mode": {
    "name": "ipython",
    "version": 2
   },
   "file_extension": ".py",
   "mimetype": "text/x-python",
   "name": "python",
   "nbconvert_exporter": "python",
   "pygments_lexer": "ipython2",
   "version": "2.7.12"
  }
 },
 "nbformat": 4,
 "nbformat_minor": 2
}

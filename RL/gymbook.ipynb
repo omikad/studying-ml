{
 "cells": [
  {
   "cell_type": "code",
   "execution_count": 1,
   "metadata": {
    "collapsed": true
   },
   "outputs": [],
   "source": [
    "%matplotlib inline\n",
    "import gym\n",
    "import math\n",
    "import matplotlib\n",
    "import matplotlib.pyplot as plt\n",
    "import numpy as np\n",
    "import pandas as pd\n",
    "import tensorflow as tf\n",
    "from collections import deque\n",
    "from IPython import display\n",
    "from JSAnimation.IPython_display import display_animation\n",
    "from matplotlib import animation\n",
    "from scipy import stats\n",
    "from training_methods import *\n",
    "%load_ext autoreload\n",
    "%autoreload\n",
    "\n",
    "run_name = 0"
   ]
  },
  {
   "cell_type": "markdown",
   "metadata": {},
   "source": [
    "## Action is added to input as OHE"
   ]
  },
  {
   "cell_type": "code",
   "execution_count": 17,
   "metadata": {
    "collapsed": true
   },
   "outputs": [],
   "source": [
    "class ActionAsInputAgent:\n",
    "    def __init__(self, params):\n",
    "        self.params = params\n",
    "        self.memory = deque(maxlen=self.params.max_memory_size)\n",
    "        self._build_model()\n",
    "        \n",
    "    def _build_model(self):\n",
    "        input_len = self.params.state_size + self.params.action_size\n",
    "\n",
    "        self.x = tf.placeholder(\"float\", [None, input_len], name=\"Placeholder_x\")\n",
    "        self.y = tf.placeholder(\"float\", [None, 1], name=\"Placeholder_y\")\n",
    "\n",
    "        h0 = tf.contrib.layers.fully_connected(\n",
    "            inputs=self.x,\n",
    "            num_outputs=20,\n",
    "            activation_fn=tf.nn.relu,\n",
    "            weights_initializer=tf.contrib.layers.xavier_initializer())\n",
    "        \n",
    "        self.pred = tf.contrib.layers.fully_connected(\n",
    "            inputs=h0,\n",
    "            num_outputs=1,\n",
    "            activation_fn=None,\n",
    "            weights_initializer=tf.contrib.layers.xavier_initializer())\n",
    "        \n",
    "        self.cost = tf.nn.l2_loss(self.pred - self.y)\n",
    "        self.train_op = tf.train.RMSPropOptimizer(learning_rate=self.params.learning_rate, decay=0.99) \\\n",
    "            .minimize(self.cost)\n",
    "\n",
    "    def remember(self, state, action, reward, next_state, frame):\n",
    "        self.memory.append((state, action, reward, next_state, frame))\n",
    "\n",
    "    def act(self, state, frame):\n",
    "        if np.random.rand() <= self.params.epsilon:\n",
    "            return np.random.randint(0, self.params.action_size)\n",
    "        return self.act_greedy(state, frame)\n",
    "    \n",
    "    def act_greedy(self, state, frame):\n",
    "        X = np.resize(state, (1, self.params.state_size + self.params.action_size))\n",
    "        X[0, self.params.state_size:] = 0\n",
    "        \n",
    "        rewards = np.zeros((self.params.action_size))\n",
    "        for i in range(self.params.action_size):\n",
    "            X[0, self.params.state_size + i] = 1\n",
    "            rewards[i] = session.run(self.pred, {self.x: X})[0]\n",
    "            X[0, self.params.state_size + i] = 0\n",
    "        return np.argmax(rewards)\n",
    "    \n",
    "    def think(self, batch_size, episode):\n",
    "        cnt = len(self.memory)\n",
    "        X = np.zeros((cnt, self.params.state_size + self.params.action_size))\n",
    "        Y = np.zeros((cnt, 1))\n",
    "        for i in range(cnt):\n",
    "            state, action, reward, next_state, frame = self.memory[i]\n",
    "            inp = np.resize(state, (self.params.state_size + self.params.action_size))\n",
    "            inp[self.params.state_size:] = 0\n",
    "            inp[self.params.state_size + action] = 1\n",
    "            X[i], Y[i] = inp, reward\n",
    "\n",
    "        P = np.random.permutation(cnt)\n",
    "        for i in range(0, cnt, batch_size):\n",
    "            batch_indexes = P[i: i + batch_size]\n",
    "            batch_x = X[batch_indexes]\n",
    "            batch_y = Y[batch_indexes]\n",
    "            _ = session.run(self.train_op, {self.x: batch_x, self.y: batch_y})"
   ]
  },
  {
   "cell_type": "markdown",
   "metadata": {},
   "source": [
    "## Policy Gradient\n",
    "\n",
    "Run with `params.episodes_between_think = 1`\n",
    "\n",
    "Karpathy: https://gist.github.com/karpathy/a4166c7fe253700972fcbc77e4ea32c5\n",
    "\n",
    "TF interpretation: https://gist.github.com/greydanus/5036f784eec2036252e1990da21eda18"
   ]
  },
  {
   "cell_type": "code",
   "execution_count": 2,
   "metadata": {
    "collapsed": true
   },
   "outputs": [],
   "source": [
    "class PolicyGradientAgent:\n",
    "    def __init__(self, params):\n",
    "        self.params = params\n",
    "        self.memory = deque(maxlen=self.params.max_memory_size)\n",
    "        self._build_model()\n",
    "\n",
    "    def _build_model(self):\n",
    "        self.x = tf.placeholder(\"float\", [None, self.params.state_size], name='Placeholder_x')\n",
    "        self.y = tf.placeholder(\"float\", [None, self.params.action_size], name='Placeholder_y')\n",
    "\n",
    "        h0 = tf.contrib.layers.fully_connected(\n",
    "            inputs=self.x,\n",
    "            num_outputs=20,\n",
    "            activation_fn=tf.nn.relu,\n",
    "            weights_initializer=tf.contrib.layers.xavier_initializer())\n",
    "        \n",
    "        self.pred = tf.contrib.layers.fully_connected(\n",
    "            inputs=h0,\n",
    "            num_outputs=self.params.action_size,\n",
    "            activation_fn=None,\n",
    "            weights_initializer=tf.contrib.layers.xavier_initializer())\n",
    "        \n",
    "        self.cost = tf.nn.l2_loss(self.pred - self.y)\n",
    "\n",
    "        optimizer = tf.train.RMSPropOptimizer(self.params.learning_rate_model, decay=0.99)\n",
    "    \n",
    "        gradients = optimizer.compute_gradients(self.cost, var_list=tf.trainable_variables())\n",
    "        self.train_op = optimizer.apply_gradients(gradients)\n",
    "\n",
    "    def remember(self, state, action, reward, next_state, frame):\n",
    "        self.memory.append((state, action, reward, next_state))\n",
    "\n",
    "    def act(self, state, frame):\n",
    "        if np.random.rand() <= self.params.epsilon:\n",
    "            return np.random.randint(0, self.params.action_size)\n",
    "        return self.act_greedy(state, frame)\n",
    "    \n",
    "    def act_greedy(self, state, frame):\n",
    "        act_values = session.run(self.pred, feed_dict={self.x: [state]})[0]\n",
    "        return np.argmax(act_values)\n",
    "\n",
    "    def think(self, batch_size, episode):\n",
    "        cnt = len(self.memory)\n",
    "        X = np.zeros((cnt, self.params.state_size))\n",
    "        Y = np.zeros((cnt, self.params.action_size))\n",
    "        for i in range(cnt):\n",
    "            state, action, reward, next_state = self.memory[i]\n",
    "            target = session.run(self.pred, feed_dict={self.x: [state]})[0]\n",
    "            target[action] = reward\n",
    "            X[i], Y[i] = state, target\n",
    "\n",
    "        _ = session.run(self.train_op, {self.x: X, self.y: Y})"
   ]
  },
  {
   "cell_type": "markdown",
   "metadata": {},
   "source": [
    "## DQN Agent"
   ]
  },
  {
   "cell_type": "code",
   "execution_count": 23,
   "metadata": {
    "collapsed": true
   },
   "outputs": [],
   "source": [
    "class DqnAgent:\n",
    "    def __init__(self, params):\n",
    "        self.params = params\n",
    "        self.memory = deque(maxlen=self.params.max_memory_size)\n",
    "        self._build_model()\n",
    "\n",
    "    def _build_model(self):\n",
    "        self.x = tf.placeholder(\"float\", [None, self.params.state_size], name=\"Placeholder_x\")\n",
    "        self.y = tf.placeholder(\"float\", [None, self.params.action_size], name=\"Placeholder_y\")\n",
    "        \n",
    "        h0 = tf.contrib.layers.fully_connected(\n",
    "            inputs=self.x,\n",
    "            num_outputs=20,\n",
    "            activation_fn=tf.nn.relu,\n",
    "            weights_initializer=tf.contrib.layers.xavier_initializer())\n",
    "        \n",
    "        self.pred = tf.contrib.layers.fully_connected(\n",
    "            inputs=h0,\n",
    "            num_outputs=self.params.action_size,\n",
    "            activation_fn=None,\n",
    "            weights_initializer=tf.contrib.layers.xavier_initializer())\n",
    "        \n",
    "        self.cost = tf.nn.l2_loss(self.pred - self.y)\n",
    "        self.train_op = tf.train.RMSPropOptimizer(learning_rate=self.params.learning_rate, decay=0.99) \\\n",
    "            .minimize(self.cost)\n",
    "#         train_op = tf.train.AdamOptimizer(learning_rate=self.params.learning_rate_model).minimize(cost)\n",
    "\n",
    "    def remember(self, state, action, reward, next_state, frame):\n",
    "        self.memory.append((state, action, reward, next_state))\n",
    "\n",
    "    def act(self, state, frame):\n",
    "        if np.random.rand() <= self.params.epsilon:\n",
    "            return np.random.randint(0, self.params.action_size)\n",
    "        return self.act_greedy(state, frame)\n",
    "    \n",
    "    def act_greedy(self, state, frame):\n",
    "        act_values = session.run(self.pred, {self.x: [state]})[0]\n",
    "        return np.argmax(act_values)\n",
    "\n",
    "    def think(self, batch_size, episode):\n",
    "        cnt = len(self.memory)\n",
    "        X = np.zeros((cnt, self.params.state_size))\n",
    "        Y = np.zeros((cnt, self.params.action_size))\n",
    "        for i in range(cnt):\n",
    "            state, action, reward, next_state = self.memory[i]\n",
    "            target = session.run(self.pred, {self.x: [state]})[0]\n",
    "            target[action] = reward + self.params.gamma * \\\n",
    "                             np.amax(session.run(self.pred, {self.x: [next_state]})[0])\n",
    "            X[i], Y[i] = state, target\n",
    "\n",
    "        P = np.random.permutation(cnt)\n",
    "        for i in range(0, cnt, batch_size):\n",
    "            batch_indexes = P[i: i + batch_size]\n",
    "            batch_x = X[batch_indexes]\n",
    "            batch_y = Y[batch_indexes]\n",
    "            _ = session.run(self.train_op, {self.x: batch_x, self.y: batch_y})"
   ]
  },
  {
   "cell_type": "code",
   "execution_count": 4,
   "metadata": {},
   "outputs": [
    {
     "name": "stderr",
     "output_type": "stream",
     "text": [
      "[2017-08-18 17:42:39,540] Making new env: CartPole-v1\n"
     ]
    },
    {
     "name": "stdout",
     "output_type": "stream",
     "text": [
      "Actions: 2, Observation space (4,), 4 parameters\n"
     ]
    }
   ],
   "source": [
    "# print(env.spec.max_episode_steps)\n",
    "\n",
    "env = gym.make('CartPole-v1')\n",
    "env.my_preprocess_input = lambda x: x\n",
    "\n",
    "# env = gym.make('MountainCar-v0')\n",
    "# env.my_preprocess_input = lambda x: x\n",
    "\n",
    "# env = gym.make('Breakout-v0')\n",
    "# env.my_preprocess_input = preprocess_input_breakout_v0\n",
    "\n",
    "# env = gym.make('Pong-v0')\n",
    "# env.my_preprocess_input = preprocess_input_pong_v0\n",
    "\n",
    "# env.render(close=True)\n",
    "# plt.imshow(env.render('rgb_array'))\n",
    "print('Actions: {}, Observation space {}, {} parameters'.format(\n",
    "    env.action_space.n, env.observation_space.shape, np.prod(env.observation_space.shape)))"
   ]
  },
  {
   "cell_type": "code",
   "execution_count": 10,
   "metadata": {},
   "outputs": [
    {
     "name": "stdout",
     "output_type": "stream",
     "text": [
      "500\n",
      "(4,)\n",
      "1.0\n"
     ]
    }
   ],
   "source": [
    "# Experimenting with env\n",
    "\n",
    "print(env.spec.max_episode_steps)\n",
    "state = env.reset()\n",
    "env.step(1)\n",
    "# for i in range(10):\n",
    "#     state, reward, _, _ = env.step(1)\n",
    "state, reward, _, _ = env.step(1)\n",
    "# state, reward, _, _ = env.step(2)\n",
    "# state, reward, _, _ = env.step(3)\n",
    "# state, reward, _, _ = env.step(3)\n",
    "print(state.shape)\n",
    "print(reward)"
   ]
  },
  {
   "cell_type": "code",
   "execution_count": null,
   "metadata": {
    "collapsed": true
   },
   "outputs": [],
   "source": [
    "# env.reset()\n",
    "state, reward, next_state, done = env.step(2)\n",
    "state = env.my_preprocess_input(state)\n",
    "print(state.shape, reward)\n",
    "# prepro(state).reshape((80, 80)).shape\n",
    "plt.imshow(state.reshape((19, 16)), cmap='Greys')\n",
    "# plt.imshow(env.render('rgb_array'))"
   ]
  },
  {
   "cell_type": "code",
   "execution_count": 22,
   "metadata": {},
   "outputs": [
    {
     "name": "stdout",
     "output_type": "stream",
     "text": [
      "State shape (4,), actions 2\n",
      "Run: 11\n",
      "episode: 7/150, reward 22.4285714286, frames 42, exploration rate: 0.9\n",
      "episode: 14/150, reward 26.5, frames 15, exploration rate: 0.79\n",
      "episode: 21/150, reward 35.7, frames 90, exploration rate: 0.68\n",
      "episode: 28/150, reward 58.9, frames 42, exploration rate: 0.59\n",
      "episode: 35/150, reward 80.5, frames 257, exploration rate: 0.52\n",
      "episode: 42/150, reward 148.3, frames 84, exploration rate: 0.45\n",
      "episode: 49/150, reward 211.4, frames 128, exploration rate: 0.39\n",
      "episode: 56/150, reward 199.5, frames 313, exploration rate: 0.34\n",
      "episode: 63/150, reward 242.3, frames 234, exploration rate: 0.3\n",
      "episode: 70/150, reward 258.7, frames 216, exploration rate: 0.26\n",
      "episode: 77/150, reward 238.1, frames 284, exploration rate: 0.22\n",
      "episode: 84/150, reward 206.2, frames 161, exploration rate: 0.19\n",
      "episode: 91/150, reward 149.7, frames 151, exploration rate: 0.17\n",
      "episode: 98/150, reward 156.0, frames 170, exploration rate: 0.15\n",
      "episode: 105/150, reward 166.2, frames 157, exploration rate: 0.13\n",
      "episode: 112/150, reward 157.9, frames 151, exploration rate: 0.11\n",
      "episode: 119/150, reward 153.6, frames 159, exploration rate: 0.097\n",
      "episode: 126/150, reward 151.2, frames 144, exploration rate: 0.084\n",
      "episode: 133/150, reward 162.7, frames 179, exploration rate: 0.073\n",
      "episode: 140/150, reward 195.6, frames 143, exploration rate: 0.064\n",
      "episode: 147/150, reward 186.2, frames 216, exploration rate: 0.055\n"
     ]
    },
    {
     "data": {
      "text/plain": [
       "[<matplotlib.lines.Line2D at 0x11df00bd0>]"
      ]
     },
     "execution_count": 22,
     "metadata": {},
     "output_type": "execute_result"
    },
    {
     "data": {
      "image/png": "[encoded data removed]",
      "text/plain": [
       "<matplotlib.figure.Figure at 0x114350c50>"
      ]
     },
     "metadata": {},
     "output_type": "display_data"
    }
   ],
   "source": [
    "params = LearningParameters(env, episodes_count=150)\n",
    "params.max_frame_in_episode = min(params.max_frame_in_episode, 10000)\n",
    "params.epsilon_min = 0.05\n",
    "\n",
    "if 'session' in locals():\n",
    "    session.close()\n",
    "    tf_writer.close()\n",
    "config = tf.ConfigProto(device_count = {'GPU': 0})\n",
    "session = tf.Session(config=config)\n",
    "run_name += 1\n",
    "print('Run: ' + str(run_name))\n",
    "\n",
    "agent = PolicyGradientAgent(params)\n",
    "# agent = DqnAgent(params)\n",
    "# agent = ActionAsInputAgent(params)\n",
    "\n",
    "tf_writer = tf.summary.FileWriter('logs/run' + str(run_name), session.graph)\n",
    "\n",
    "session.run(tf.global_variables_initializer())\n",
    "\n",
    "agent, rewards = train_discounted_rewards(env, agent, params, normalize_rewards=True)\n",
    "# agent, rewards = train_reward_is_time(env, agent, params)\n",
    "# agent, rewards = train(env, agent, params)\n",
    "plt.plot(rewards)"
   ]
  },
  {
   "cell_type": "code",
   "execution_count": null,
   "metadata": {
    "collapsed": true
   },
   "outputs": [],
   "source": [
    "# Continue learning\n",
    "params.episodes_count = 10000\n",
    "agent, rewards = train_discounted_rewards(env, agent, params, normalize_rewards=True)\n",
    "plt.plot(rewards)"
   ]
  },
  {
   "cell_type": "code",
   "execution_count": 20,
   "metadata": {},
   "outputs": [
    {
     "name": "stdout",
     "output_type": "stream",
     "text": [
      "Total reward: 9.0\n"
     ]
    }
   ],
   "source": [
    "evaluate(env, agent, params, 500)"
   ]
  },
  {
   "cell_type": "code",
   "execution_count": null,
   "metadata": {
    "collapsed": true
   },
   "outputs": [],
   "source": [
    "show(env, agent, params, 500, width=19, height=16, greedy=True)"
   ]
  },
  {
   "cell_type": "code",
   "execution_count": null,
   "metadata": {
    "collapsed": true
   },
   "outputs": [],
   "source": [
    "# Save rewards/model\n",
    "pd.DataFrame(rewards).to_csv('models/rewards_40K_50K.csv', header=None)\n",
    "saver = tf.train.Saver()\n",
    "saver.save(session, 'models/Pong PolicyGradient', global_step=50000)"
   ]
  },
  {
   "cell_type": "code",
   "execution_count": null,
   "metadata": {
    "collapsed": true
   },
   "outputs": [],
   "source": []
  },
  {
   "cell_type": "code",
   "execution_count": null,
   "metadata": {
    "collapsed": true
   },
   "outputs": [],
   "source": []
  },
  {
   "cell_type": "code",
   "execution_count": null,
   "metadata": {
    "collapsed": true
   },
   "outputs": [],
   "source": []
  },
  {
   "cell_type": "code",
   "execution_count": null,
   "metadata": {
    "collapsed": true
   },
   "outputs": [],
   "source": []
  }
 ],
 "metadata": {
  "kernelspec": {
   "display_name": "Python 2",
   "language": "python",
   "name": "python2"
  },
  "language_info": {
   "codemirror_mode": {
    "name": "ipython",
    "version": 2
   },
   "file_extension": ".py",
   "mimetype": "text/x-python",
   "name": "python",
   "nbconvert_exporter": "python",
   "pygments_lexer": "ipython2",
   "version": "2.7.10"
  }
 },
 "nbformat": 4,
 "nbformat_minor": 2
}

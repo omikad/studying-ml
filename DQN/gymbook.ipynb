{
 "cells": [
  {
   "cell_type": "code",
   "execution_count": 1,
   "metadata": {},
   "outputs": [
    {
     "name": "stderr",
     "output_type": "stream",
     "text": [
      "Using TensorFlow backend.\n"
     ]
    }
   ],
   "source": [
    "%matplotlib inline\n",
    "import gym\n",
    "import matplotlib.pyplot as plt\n",
    "import numpy as np\n",
    "import random\n",
    "from collections import deque\n",
    "from IPython.display import display\n",
    "from JSAnimation.IPython_display import display_animation\n",
    "from keras.models import Sequential\n",
    "from keras.layers import Dense\n",
    "from keras.optimizers import Adam\n",
    "from matplotlib import animation"
   ]
  },
  {
   "cell_type": "code",
   "execution_count": 2,
   "metadata": {
    "collapsed": true
   },
   "outputs": [],
   "source": [
    "def display_frames_as_gif(frames):\n",
    "    \"\"\"\n",
    "    Displays a list of frames as a gif, with controls\n",
    "    \"\"\"\n",
    "    plt.figure(figsize=(frames[0].shape[1] / 72.0, frames[0].shape[0] / 72.0), dpi = 72)\n",
    "    patch = plt.imshow(frames[0])\n",
    "    plt.axis('off')\n",
    "\n",
    "    def animate(i):\n",
    "        patch.set_data(frames[i])\n",
    "\n",
    "    anim = animation.FuncAnimation(plt.gcf(), animate, frames = len(frames), interval=50)\n",
    "    display(display_animation(anim, default_mode='loop'))"
   ]
  },
  {
   "cell_type": "code",
   "execution_count": 7,
   "metadata": {},
   "outputs": [],
   "source": [
    "class DQNAgent:\n",
    "    def __init__(self, state_size, action_size):\n",
    "        self.state_size = state_size\n",
    "        self.action_size = action_size\n",
    "        self.memory = deque(maxlen=2000)\n",
    "        self.gamma = 0.9                 # discount rate\n",
    "        self.epsilon = 1.0               # exploration rate\n",
    "        self.e_decay = .999              # exploration rate decay\n",
    "        self.e_min = 0.05                # min exploration rate\n",
    "        self.learning_rate = 0.1         # learning rate for algorithm\n",
    "        self.learning_rate_model = 0.01  # learning rate for model (Adam optimizer)\n",
    "        self.model = self._build_model()\n",
    "\n",
    "    def _build_model(self):\n",
    "        # Neural Net for Deep-Q learning Model\n",
    "        model = Sequential()\n",
    "        model.add(Dense(20, input_dim=self.state_size, activation='relu'))\n",
    "        model.add(Dense(20, activation='relu', kernel_initializer='uniform'))\n",
    "        model.add(Dense(self.action_size, activation='linear'))\n",
    "        model.compile(loss='mse',\n",
    "                      optimizer=Adam(lr=self.learning_rate_model))\n",
    "        return model\n",
    "\n",
    "    def remember(self, state, action, reward, next_state, done):\n",
    "        self.memory.append((state, action, reward, next_state, done))\n",
    "\n",
    "    def act(self, state):\n",
    "        if np.random.rand() <= self.epsilon:\n",
    "            return random.randrange(self.action_size)\n",
    "        return self.act_greedy(state)\n",
    "    \n",
    "    def act_greedy(self, state):\n",
    "        act_values = self.model.predict(state)\n",
    "        return np.argmax(act_values[0])\n",
    "\n",
    "    def replay(self, batch_size):\n",
    "        batch_size = min(batch_size, len(self.memory))\n",
    "        minibatch = random.sample(self.memory, batch_size)\n",
    "        X = np.zeros((batch_size, self.state_size))\n",
    "        Y = np.zeros((batch_size, self.action_size))\n",
    "        for i in range(batch_size):\n",
    "            state, action, reward, next_state, done = minibatch[i]\n",
    "            target = self.model.predict(state)[0]\n",
    "            if done:\n",
    "                target[action] = -10\n",
    "            else:\n",
    "#                 target[action] = reward + self.gamma * \\\n",
    "#                             np.amax(self.model.predict(next_state)[0])\n",
    "                target[action] = target[action] + self.learning_rate * \\\n",
    "                    (reward + self.gamma * np.amax(self.model.predict(next_state)[0] - target[action]))\n",
    "            X[i], Y[i] = state, target\n",
    "        self.model.fit(X, Y, batch_size=batch_size, epochs=1, verbose=0)\n",
    "        if self.epsilon > self.e_min:\n",
    "            self.epsilon *= self.e_decay\n",
    "\n",
    "    def load(self, name):\n",
    "        self.model.load_weights(name)\n",
    "\n",
    "    def save(self, name):\n",
    "        self.model.save_weights(name)"
   ]
  },
  {
   "cell_type": "code",
   "execution_count": 18,
   "metadata": {
    "collapsed": true
   },
   "outputs": [],
   "source": [
    "def train(env):\n",
    "    EPISODES = 1000\n",
    "    FRAMES_PER_EPISODE = 1000\n",
    "\n",
    "    state_size = env.observation_space.shape[0]\n",
    "    action_size = env.action_space.n\n",
    "\n",
    "    agent = DQNAgent(state_size, action_size)\n",
    "\n",
    "    for e in range(1, EPISODES + 1):\n",
    "        state = env.reset()\n",
    "        state = np.reshape(state, [1, state_size])\n",
    "        scores = []\n",
    "        for time in range(FRAMES_PER_EPISODE):\n",
    "            action = agent.act(state)\n",
    "            next_state, reward, done, _ = env.step(action)\n",
    "            next_state = np.reshape(next_state, [1, state_size])\n",
    "            agent.remember(state, action, reward, next_state, done)\n",
    "            state = next_state\n",
    "            if done or time == FRAMES_PER_EPISODE - 1:\n",
    "                scores.append(time)\n",
    "                if e % (EPISODES / 20) == 0:\n",
    "                    print(\"episode: {}/{}, avg score: {}, exploration rate: {:.2}\"\n",
    "                          .format(e, EPISODES, np.average(scores), agent.epsilon))\n",
    "                break\n",
    "        agent.replay(32)\n",
    "        \n",
    "    return agent"
   ]
  },
  {
   "cell_type": "code",
   "execution_count": 19,
   "metadata": {
    "collapsed": true
   },
   "outputs": [],
   "source": [
    "def evaluate(env, agent, render):\n",
    "    FRAMES = 500\n",
    "\n",
    "    state_size = env.observation_space.shape[0]\n",
    "    action_size = env.action_space.n\n",
    "    \n",
    "    state = env.reset()\n",
    "    frames = []\n",
    "    for e in range(FRAMES):\n",
    "        if render:\n",
    "            frames.append(env.render(mode = 'rgb_array'))\n",
    "        state = np.reshape(state, [1, state_size])\n",
    "        action = agent.act_greedy(state)\n",
    "        state, reward, done, _ = env.step(action)\n",
    "        if done or e == FRAMES - 1:\n",
    "            print(\"score: {}\"\n",
    "                  .format(e))\n",
    "            break\n",
    "\n",
    "    if render:\n",
    "        env.render(close=True)\n",
    "        display_frames_as_gif(frames)"
   ]
  },
  {
   "cell_type": "code",
   "execution_count": 30,
   "metadata": {
    "collapsed": true
   },
   "outputs": [],
   "source": [
    "env.render(close=True)"
   ]
  },
  {
   "cell_type": "code",
   "execution_count": 20,
   "metadata": {},
   "outputs": [
    {
     "name": "stderr",
     "output_type": "stream",
     "text": [
      "[2017-05-24 09:11:06,647] Making new env: CartPole-v1\n"
     ]
    }
   ],
   "source": [
    "env = gym.make('CartPole-v1')"
   ]
  },
  {
   "cell_type": "code",
   "execution_count": 21,
   "metadata": {},
   "outputs": [
    {
     "name": "stdout",
     "output_type": "stream",
     "text": [
      "episode: 50/1000, avg score: 8.0, exploration rate: 0.95\n",
      "episode: 100/1000, avg score: 15.0, exploration rate: 0.91\n",
      "episode: 150/1000, avg score: 49.0, exploration rate: 0.86\n",
      "episode: 200/1000, avg score: 39.0, exploration rate: 0.82\n",
      "episode: 250/1000, avg score: 8.0, exploration rate: 0.78\n",
      "episode: 300/1000, avg score: 17.0, exploration rate: 0.74\n",
      "episode: 350/1000, avg score: 16.0, exploration rate: 0.71\n",
      "episode: 400/1000, avg score: 29.0, exploration rate: 0.67\n",
      "episode: 450/1000, avg score: 23.0, exploration rate: 0.64\n",
      "episode: 500/1000, avg score: 38.0, exploration rate: 0.61\n",
      "episode: 550/1000, avg score: 27.0, exploration rate: 0.58\n",
      "episode: 600/1000, avg score: 10.0, exploration rate: 0.55\n",
      "episode: 650/1000, avg score: 9.0, exploration rate: 0.52\n",
      "episode: 700/1000, avg score: 70.0, exploration rate: 0.5\n",
      "episode: 750/1000, avg score: 44.0, exploration rate: 0.47\n",
      "episode: 800/1000, avg score: 108.0, exploration rate: 0.45\n",
      "episode: 850/1000, avg score: 26.0, exploration rate: 0.43\n",
      "episode: 900/1000, avg score: 14.0, exploration rate: 0.41\n",
      "episode: 950/1000, avg score: 46.0, exploration rate: 0.39\n",
      "episode: 1000/1000, avg score: 105.0, exploration rate: 0.37\n"
     ]
    }
   ],
   "source": [
    "agent = train(env)"
   ]
  },
  {
   "cell_type": "code",
   "execution_count": 24,
   "metadata": {},
   "outputs": [
    {
     "name": "stdout",
     "output_type": "stream",
     "text": [
      "score: 120\n"
     ]
    }
   ],
   "source": [
    "evaluate(env, agent, False)"
   ]
  }
 ],
 "metadata": {
  "kernelspec": {
   "display_name": "Python 2",
   "language": "python",
   "name": "python2"
  },
  "language_info": {
   "codemirror_mode": {
    "name": "ipython",
    "version": 2
   },
   "file_extension": ".py",
   "mimetype": "text/x-python",
   "name": "python",
   "nbconvert_exporter": "python",
   "pygments_lexer": "ipython2",
   "version": "2.7.10"
  }
 },
 "nbformat": 4,
 "nbformat_minor": 2
}

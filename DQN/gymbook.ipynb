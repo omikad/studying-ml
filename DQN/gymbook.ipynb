{
 "cells": [
  {
   "cell_type": "code",
   "execution_count": 1,
   "metadata": {},
   "outputs": [
    {
     "name": "stderr",
     "output_type": "stream",
     "text": [
      "Using TensorFlow backend.\n"
     ]
    }
   ],
   "source": [
    "%matplotlib inline\n",
    "import gym\n",
    "import matplotlib.pyplot as plt\n",
    "import numpy as np\n",
    "import pandas as pd\n",
    "import random\n",
    "from collections import deque\n",
    "from IPython.display import display\n",
    "from JSAnimation.IPython_display import display_animation\n",
    "from keras.models import Sequential\n",
    "from keras.layers import Dense\n",
    "from keras.optimizers import Adam\n",
    "from matplotlib import animation\n",
    "from scipy import stats"
   ]
  },
  {
   "cell_type": "code",
   "execution_count": 2,
   "metadata": {
    "collapsed": true
   },
   "outputs": [],
   "source": [
    "def display_frames_as_gif(frames):\n",
    "    \"\"\"\n",
    "    Displays a list of frames as a gif, with controls\n",
    "    \"\"\"\n",
    "    plt.figure(figsize=(frames[0].shape[1] / 72.0, frames[0].shape[0] / 72.0), dpi = 72)\n",
    "    patch = plt.imshow(frames[0])\n",
    "    plt.axis('off')\n",
    "\n",
    "    def animate(i):\n",
    "        patch.set_data(frames[i])\n",
    "\n",
    "    anim = animation.FuncAnimation(plt.gcf(), animate, frames = len(frames), interval=50)\n",
    "    display(display_animation(anim, default_mode='loop'))"
   ]
  },
  {
   "cell_type": "code",
   "execution_count": 3,
   "metadata": {
    "collapsed": true
   },
   "outputs": [],
   "source": [
    "class DQNAgent:\n",
    "    def __init__(self, state_size, action_size):\n",
    "        self.state_size = state_size\n",
    "        self.action_size = action_size\n",
    "        self.memory = deque(maxlen=10000)\n",
    "        self.gamma = 0.9                 # discount rate\n",
    "        self.epsilon = 1.0               # exploration rate\n",
    "        self.e_decay = .9995             # exploration rate decay\n",
    "        self.e_min = 0.05                # min exploration rate\n",
    "        self.learning_rate = 0.1         # learning rate for algorithm\n",
    "        self.learning_rate_model = 0.01  # learning rate for model (Adam optimizer)\n",
    "        self.model = self._build_model()\n",
    "\n",
    "    def _build_model(self):\n",
    "        # Neural Net for Deep-Q learning Model\n",
    "        model = Sequential()\n",
    "        model.add(Dense(20, input_dim=self.state_size, activation='relu'))\n",
    "        model.add(Dense(20, activation='relu', kernel_initializer='uniform'))\n",
    "        model.add(Dense(self.action_size, activation='linear'))\n",
    "        model.compile(loss='mse',\n",
    "                      optimizer=Adam(lr=self.learning_rate_model))\n",
    "        return model\n",
    "\n",
    "    def remember(self, state, action, reward, next_state, done):\n",
    "        self.memory.append((state, action, reward, next_state, done))\n",
    "\n",
    "    def act(self, state):\n",
    "        if np.random.rand() <= self.epsilon:\n",
    "            return random.randrange(self.action_size)\n",
    "        return self.act_greedy(state)\n",
    "    \n",
    "    def act_greedy(self, state):\n",
    "        act_values = self.model.predict(state)\n",
    "        return np.argmax(act_values[0])\n",
    "\n",
    "    def replay(self, batch_size):\n",
    "        batch_size = min(batch_size, len(self.memory))\n",
    "        minibatch = random.sample(self.memory, batch_size)\n",
    "        X = np.zeros((batch_size, self.state_size))\n",
    "        Y = np.zeros((batch_size, self.action_size))\n",
    "        for i in range(batch_size):\n",
    "            state, action, reward, next_state, done = minibatch[i]\n",
    "            target = self.model.predict(state)[0]\n",
    "            if done:\n",
    "                target[action] = 0\n",
    "            else:\n",
    "                target[action] = reward + self.gamma * np.amax(self.model.predict(next_state)[0])\n",
    "#                 target[action] = target[action] + self.learning_rate * \\\n",
    "#                     (reward + self.gamma * np.amax(self.model.predict(next_state)[0] - target[action]))\n",
    "            X[i], Y[i] = state, target\n",
    "        self.model.fit(X, Y, batch_size=batch_size, epochs=1, verbose=0)\n",
    "        if self.epsilon > self.e_min:\n",
    "            self.epsilon *= self.e_decay\n",
    "\n",
    "    def load(self, name):\n",
    "        self.model.load_weights(name)\n",
    "\n",
    "    def save(self, name):\n",
    "        self.model.save_weights(name)"
   ]
  },
  {
   "cell_type": "code",
   "execution_count": 4,
   "metadata": {
    "collapsed": true
   },
   "outputs": [],
   "source": [
    "def train(env):\n",
    "    EPISODES = 4000\n",
    "    \n",
    "    # When agent see done=True we put a penalty, but also, done equals True in the last episode\n",
    "    FRAMES_PER_EPISODE = min(1000, env.spec.max_episode_steps - 1)\n",
    "\n",
    "    state_size = env.observation_space.shape[0]\n",
    "    action_size = env.action_space.n\n",
    "\n",
    "    agent = DQNAgent(state_size, action_size)\n",
    "\n",
    "    for e in range(1, EPISODES + 1):\n",
    "        state = env.reset()\n",
    "        state = np.reshape(state, [1, state_size])\n",
    "        times = []\n",
    "        for time in range(FRAMES_PER_EPISODE):\n",
    "            action = agent.act(state)\n",
    "            next_state, reward, done, _ = env.step(action)\n",
    "            next_state = np.reshape(next_state, [1, state_size])\n",
    "            agent.remember(state, action, reward, next_state, done)\n",
    "            state = next_state\n",
    "            if done or time == FRAMES_PER_EPISODE - 1:\n",
    "                times.append(time)\n",
    "                if e % (EPISODES / 20) == 0:\n",
    "                    print(\"episode: {}/{}, avg time: {}, exploration rate: {:.2}\"\n",
    "                          .format(e, EPISODES, np.average(times), agent.epsilon))\n",
    "                break\n",
    "        agent.replay(32)\n",
    "        \n",
    "    return agent"
   ]
  },
  {
   "cell_type": "code",
   "execution_count": 5,
   "metadata": {
    "collapsed": true
   },
   "outputs": [],
   "source": [
    "def evaluate(env, agent, play_count, render):\n",
    "    FRAMES = min(500, env.spec.max_episode_steps)\n",
    "\n",
    "    state_size = env.observation_space.shape[0]\n",
    "    action_size = env.action_space.n\n",
    "    \n",
    "    times = []\n",
    "    rewards = []\n",
    "    \n",
    "    for t in range(play_count):\n",
    "        state = env.reset()\n",
    "        frames = []\n",
    "        for e in range(FRAMES):\n",
    "            if render:\n",
    "                frames.append(env.render(mode = 'rgb_array'))\n",
    "            state = np.reshape(state, [1, state_size])\n",
    "            action = agent.act_greedy(state)\n",
    "            state, reward, done, _ = env.step(action)\n",
    "            rewards.append(reward)\n",
    "            if done or e == FRAMES - 1:\n",
    "                times.append(e)\n",
    "                break\n",
    "\n",
    "        if render:\n",
    "            env.render(close=True)\n",
    "            display_frames_as_gif(frames)\n",
    "            render = False\n",
    "            \n",
    "    return times, rewards"
   ]
  },
  {
   "cell_type": "code",
   "execution_count": 6,
   "metadata": {},
   "outputs": [
    {
     "ename": "NameError",
     "evalue": "name 'env' is not defined",
     "output_type": "error",
     "traceback": [
      "\u001b[0;31m---------------------------------------------------------------------------\u001b[0m",
      "\u001b[0;31mNameError\u001b[0m                                 Traceback (most recent call last)",
      "\u001b[0;32m<ipython-input-6-242dc2ee50c4>\u001b[0m in \u001b[0;36m<module>\u001b[0;34m()\u001b[0m\n\u001b[0;32m----> 1\u001b[0;31m \u001b[0menv\u001b[0m\u001b[0;34m.\u001b[0m\u001b[0mrender\u001b[0m\u001b[0;34m(\u001b[0m\u001b[0mclose\u001b[0m\u001b[0;34m=\u001b[0m\u001b[0mTrue\u001b[0m\u001b[0;34m)\u001b[0m\u001b[0;34m\u001b[0m\u001b[0m\n\u001b[0m",
      "\u001b[0;31mNameError\u001b[0m: name 'env' is not defined"
     ]
    }
   ],
   "source": [
    "env.render(close=True)"
   ]
  },
  {
   "cell_type": "code",
   "execution_count": 7,
   "metadata": {},
   "outputs": [
    {
     "name": "stderr",
     "output_type": "stream",
     "text": [
      "[2017-05-25 14:41:19,700] Making new env: CartPole-v0\n"
     ]
    },
    {
     "name": "stdout",
     "output_type": "stream",
     "text": [
      "episode: 200/4000, avg time: 19.0, exploration rate: 0.91\n",
      "episode: 400/4000, avg time: 22.0, exploration rate: 0.82\n",
      "episode: 600/4000, avg time: 25.0, exploration rate: 0.74\n",
      "episode: 800/4000, avg time: 35.0, exploration rate: 0.67\n",
      "episode: 1000/4000, avg time: 33.0, exploration rate: 0.61\n",
      "episode: 1200/4000, avg time: 139.0, exploration rate: 0.55\n",
      "episode: 1400/4000, avg time: 158.0, exploration rate: 0.5\n",
      "episode: 1600/4000, avg time: 27.0, exploration rate: 0.45\n",
      "episode: 1800/4000, avg time: 119.0, exploration rate: 0.41\n",
      "episode: 2000/4000, avg time: 25.0, exploration rate: 0.37\n",
      "episode: 2200/4000, avg time: 177.0, exploration rate: 0.33\n",
      "episode: 2400/4000, avg time: 115.0, exploration rate: 0.3\n",
      "episode: 2600/4000, avg time: 198.0, exploration rate: 0.27\n",
      "episode: 2800/4000, avg time: 198.0, exploration rate: 0.25\n",
      "episode: 3000/4000, avg time: 26.0, exploration rate: 0.22\n",
      "episode: 3200/4000, avg time: 97.0, exploration rate: 0.2\n",
      "episode: 3400/4000, avg time: 198.0, exploration rate: 0.18\n",
      "episode: 3600/4000, avg time: 109.0, exploration rate: 0.17\n",
      "episode: 3800/4000, avg time: 102.0, exploration rate: 0.15\n",
      "episode: 4000/4000, avg time: 111.0, exploration rate: 0.14\n"
     ]
    }
   ],
   "source": [
    "env = gym.make('CartPole-v0')\n",
    "env.seed(1337)\n",
    "agent = train(env)"
   ]
  },
  {
   "cell_type": "code",
   "execution_count": 8,
   "metadata": {},
   "outputs": [
    {
     "name": "stdout",
     "output_type": "stream",
     "text": [
      "DescribeResult(nobs=100, minmax=(102, 127), mean=112.29000000000001, variance=41.985757575757575, skewness=0.40675582009808675, kurtosis=-0.5143571165535552)\n"
     ]
    },
    {
     "data": {
      "image/png": "[encoded data removed]",
      "text/plain": [
       "<matplotlib.figure.Figure at 0x7f3fec63a410>"
      ]
     },
     "metadata": {},
     "output_type": "display_data"
    }
   ],
   "source": [
    "times, rewards = evaluate(env, agent, 100, False)\n",
    "plt.hist(times)\n",
    "print(stats.describe(times))\n",
    "\n",
    "# plt.hist(rewards)\n",
    "# print(stats.describe(rewards))"
   ]
  },
  {
   "cell_type": "code",
   "execution_count": 9,
   "metadata": {},
   "outputs": [
    {
     "name": "stdout",
     "output_type": "stream",
     "text": [
      "(array([[ 1.94731386,  2.17334672,  0.12232983,  0.01602223]]), 0, 1.0, array([[ 1.9907808 ,  1.97670211,  0.12265027,  0.3446602 ]]), False)\n",
      "[[ 7.11011839  6.8039546 ]]\n"
     ]
    }
   ],
   "source": [
    "print(agent.memory[0])\n",
    "print(agent.model.predict(agent.memory[0][0]))"
   ]
  },
  {
   "cell_type": "code",
   "execution_count": null,
   "metadata": {
    "collapsed": true
   },
   "outputs": [],
   "source": []
  },
  {
   "cell_type": "code",
   "execution_count": null,
   "metadata": {
    "collapsed": true
   },
   "outputs": [],
   "source": []
  },
  {
   "cell_type": "code",
   "execution_count": null,
   "metadata": {
    "collapsed": true
   },
   "outputs": [],
   "source": []
  },
  {
   "cell_type": "code",
   "execution_count": null,
   "metadata": {
    "collapsed": true
   },
   "outputs": [],
   "source": []
  }
 ],
 "metadata": {
  "kernelspec": {
   "display_name": "Python 2",
   "language": "python",
   "name": "python2"
  },
  "language_info": {
   "codemirror_mode": {
    "name": "ipython",
    "version": 2
   },
   "file_extension": ".py",
   "mimetype": "text/x-python",
   "name": "python",
   "nbconvert_exporter": "python",
   "pygments_lexer": "ipython2",
   "version": "2.7.12"
  }
 },
 "nbformat": 4,
 "nbformat_minor": 2
}

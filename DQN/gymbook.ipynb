{
 "cells": [
  {
   "cell_type": "code",
   "execution_count": 92,
   "metadata": {},
   "outputs": [],
   "source": [
    "%matplotlib inline\n",
    "import gym\n",
    "import math\n",
    "import matplotlib.pyplot as plt\n",
    "import numpy as np\n",
    "from collections import deque\n",
    "from IPython.display import display\n",
    "from JSAnimation.IPython_display import display_animation\n",
    "from keras.models import Sequential\n",
    "from keras.layers import Dense\n",
    "from keras.optimizers import Adam\n",
    "from matplotlib import animation"
   ]
  },
  {
   "cell_type": "code",
   "execution_count": 2,
   "metadata": {
    "collapsed": true
   },
   "outputs": [],
   "source": [
    "def display_frames_as_gif(frames):\n",
    "    \"\"\"\n",
    "    Displays a list of frames as a gif, with controls\n",
    "    \"\"\"\n",
    "    plt.figure(figsize=(frames[0].shape[1] / 72.0, frames[0].shape[0] / 72.0), dpi = 72)\n",
    "    patch = plt.imshow(frames[0])\n",
    "    plt.axis('off')\n",
    "\n",
    "    def animate(i):\n",
    "        patch.set_data(frames[i])\n",
    "\n",
    "    anim = animation.FuncAnimation(plt.gcf(), animate, frames = len(frames), interval=50)\n",
    "    display(display_animation(anim, default_mode='loop'))"
   ]
  },
  {
   "cell_type": "code",
   "execution_count": 258,
   "metadata": {
    "collapsed": true
   },
   "outputs": [],
   "source": [
    "class LearningParameters:\n",
    "    def __init__(self, state_size, action_size, frames_count):\n",
    "        self.state_size = state_size\n",
    "        self.action_size = action_size\n",
    "        self.frames_count = frames_count\n",
    "        self.max_memory_size = 1000000\n",
    "        self.frames_between_think = 100\n",
    "        \n",
    "        self.gamma = 0.9                 # discount rate\n",
    "        self.epsilon = 1.0               # exploration rate\n",
    "        self.epsilon_start = self.epsilon\n",
    "        self.epsilon_min = 0.0001        # min exploration rate\n",
    "        self.learning_rate = 0.1         # learning rate for algorithm\n",
    "        self.learning_rate_model = 0.01  # learning rate for model (Adam optimizer)\n",
    "        \n",
    "    def decay_exploration_rate(self, frame):\n",
    "        # Linear exploration rate decay (lerp)\n",
    "#         self.epsilon = self.epsilon_start - \\\n",
    "#                       (self.epsilon_start - self.epsilon_min) * (float(frame) / self.frames_count)\n",
    "            \n",
    "        # Exponential rate decay\n",
    "        # y(0) = start\n",
    "        # y(1) = start * x\n",
    "        # y(2) = start * x^2\n",
    "        # y(steps) = start * x^steps = min => x = (min/start) ^ (1/steps)\n",
    "        # y(t) = x^t\n",
    "        self.epsilon = math.pow( math.pow(self.epsilon_min / self.epsilon_start, 1.0 / self.frames_count), frame )"
   ]
  },
  {
   "cell_type": "code",
   "execution_count": 279,
   "metadata": {},
   "outputs": [],
   "source": [
    "class PolicyGradientAgent:\n",
    "    def __init__(self, params):\n",
    "        self.params = params\n",
    "        self.memory = deque(maxlen=self.params.max_memory_size)\n",
    "        self.model = self._build_model()\n",
    "\n",
    "    def _build_model(self):\n",
    "        model = Sequential()\n",
    "        model.add(Dense(8, input_dim=self.params.state_size, activation='relu'))\n",
    "#         model.add(Dense(20, activation='relu', kernel_initializer='uniform'))\n",
    "        model.add(Dense(self.params.action_size, activation='softmax'))\n",
    "        model.compile(loss='mse', optimizer=Adam(lr=self.params.learning_rate_model))\n",
    "        return model\n",
    "\n",
    "    def remember(self, state, action, reward, next_state):\n",
    "        self.memory.append((state, action, reward, next_state))\n",
    "\n",
    "    def act(self, state):\n",
    "        if np.random.rand() <= self.params.epsilon:\n",
    "            return np.random.randint(0, self.params.action_size)\n",
    "        return self.act_greedy(state)\n",
    "    \n",
    "    def act_greedy(self, state):\n",
    "        act_values = self.model.predict(state)\n",
    "        return np.argmax(act_values[0])\n",
    "\n",
    "    def think(self, batch_size):\n",
    "        cnt = len(self.memory)\n",
    "        X = np.zeros((cnt, self.params.state_size))\n",
    "        Y = np.zeros((cnt, self.params.action_size))\n",
    "        for i in range(cnt):\n",
    "            state, action, reward, next_state = self.memory[i]\n",
    "            target = self.model.predict(state)[0]\n",
    "            target[action] = 1.0 if reward > 0 else 0.0\n",
    "            X[i], Y[i] = state, target\n",
    "        self.model.fit(X, Y, batch_size=batch_size, epochs=1, verbose=0)\n",
    "\n",
    "    def load(self, name):\n",
    "        self.model.load_weights(name)\n",
    "\n",
    "    def save(self, name):\n",
    "        self.model.save_weights(name)"
   ]
  },
  {
   "cell_type": "code",
   "execution_count": 247,
   "metadata": {},
   "outputs": [],
   "source": [
    "class DQNAgent:\n",
    "    def __init__(self, params):\n",
    "        self.params = params\n",
    "        self.memory = deque(maxlen=self.params.max_memory_size)\n",
    "        self.model = self._build_model()\n",
    "\n",
    "    def _build_model(self):\n",
    "        # Neural Net for Deep-Q learning Model\n",
    "        model = Sequential()\n",
    "        model.add(Dense(8, input_dim=self.params.state_size, activation='relu'))\n",
    "#         model.add(Dense(20, activation='relu', kernel_initializer='uniform'))\n",
    "        model.add(Dense(self.params.action_size, activation='linear'))\n",
    "        model.compile(loss='mse', optimizer=Adam(lr=self.params.learning_rate_model))\n",
    "        return model\n",
    "\n",
    "    def remember(self, state, action, reward, next_state):\n",
    "        self.memory.append((state, action, reward, next_state))\n",
    "\n",
    "    def act(self, state):\n",
    "        if np.random.rand() <= self.params.epsilon:\n",
    "            return np.random.randint(0, self.params.action_size)\n",
    "        return self.act_greedy(state)\n",
    "    \n",
    "    def act_greedy(self, state):\n",
    "        act_values = self.model.predict(state)\n",
    "        return np.argmax(act_values[0])\n",
    "\n",
    "    def think(self, batch_size):\n",
    "        cnt = len(self.memory)\n",
    "        X = np.zeros((cnt, self.params.state_size))\n",
    "        Y = np.zeros((cnt, self.params.action_size))\n",
    "        for i in range(cnt):\n",
    "            state, action, reward, next_state = self.memory[i]\n",
    "            target = self.model.predict(state)[0]\n",
    "            target[action] = reward + self.params.gamma * \\\n",
    "                            np.amax(self.model.predict(next_state)[0])\n",
    "            X[i], Y[i] = state, target\n",
    "        self.model.fit(X, Y, batch_size=batch_size, epochs=1, verbose=0)"
   ]
  },
  {
   "cell_type": "code",
   "execution_count": 251,
   "metadata": {
    "collapsed": true
   },
   "outputs": [],
   "source": [
    "def train(env, agent, params):   \n",
    "    rewards = []\n",
    "    state = np.reshape(env.reset(), [1, params.state_size])\n",
    "    time = 0\n",
    "    for f in range(1, params.frames_count + 1):\n",
    "        action = agent.act(state)\n",
    "        next_state, reward, done, _ = env.step(action)\n",
    "        next_state = np.reshape(next_state, [1, params.state_size])\n",
    "        \n",
    "        if time < env.spec.max_episode_steps:\n",
    "            if done:\n",
    "                reward = -10\n",
    "            agent.remember(state, action, reward, next_state)\n",
    "\n",
    "        state = next_state\n",
    "        if done or f == params.frames_count - 1:\n",
    "            rewards.append(time)\n",
    "            time = 0\n",
    "            state = np.reshape(env.reset(), [1, params.state_size])\n",
    "        else:\n",
    "            time += 1\n",
    "            \n",
    "        if f % (params.frames_count / 20) == 0:\n",
    "            print(\"frame: {}/{}, reward {}, exploration rate: {:.2}\"\n",
    "              .format(f, params.frames_count, np.mean(rewards[-10:]), params.epsilon))\n",
    "            \n",
    "        if (f + 1) % params.frames_between_think == 0:\n",
    "            agent.think(32)\n",
    "        \n",
    "        params.decay_exploration_rate(f - 1)\n",
    "\n",
    "    return agent, rewards"
   ]
  },
  {
   "cell_type": "code",
   "execution_count": 140,
   "metadata": {
    "collapsed": true
   },
   "outputs": [],
   "source": [
    "def evaluate(env, agent, params, render, frames):\n",
    "    state = env.reset()\n",
    "    render_frames = []\n",
    "    for e in range(frames):\n",
    "        if render:\n",
    "            render_frames.append(env.render(mode = 'rgb_array'))\n",
    "        state = np.reshape(state, [1, params.state_size])\n",
    "        action = agent.act_greedy(state)\n",
    "        state, reward, done, _ = env.step(action)\n",
    "        if done or e == frames - 1:\n",
    "            print(\"score: {}\"\n",
    "                  .format(e))\n",
    "            break\n",
    "\n",
    "    if render:\n",
    "        env.render(close=True)\n",
    "        display_frames_as_gif(render_frames)"
   ]
  },
  {
   "cell_type": "code",
   "execution_count": null,
   "metadata": {},
   "outputs": [],
   "source": [
    "# env.render(close=True)\n",
    "print(env.spec.max_episode_steps)"
   ]
  },
  {
   "cell_type": "code",
   "execution_count": 248,
   "metadata": {},
   "outputs": [
    {
     "name": "stderr",
     "output_type": "stream",
     "text": [
      "[2017-06-11 14:21:13,360] Making new env: CartPole-v0\n"
     ]
    }
   ],
   "source": [
    "env = gym.make('CartPole-v0')"
   ]
  },
  {
   "cell_type": "code",
   "execution_count": 280,
   "metadata": {},
   "outputs": [
    {
     "name": "stdout",
     "output_type": "stream",
     "text": [
      "frame: 150/3000, reward 33.75, exploration rate: 0.63\n",
      "frame: 300/3000, reward 41.5, exploration rate: 0.4\n",
      "frame: 450/3000, reward 49.0, exploration rate: 0.25\n",
      "frame: 600/3000, reward 67.75, exploration rate: 0.16\n",
      "frame: 750/3000, reward 77.7777777778, exploration rate: 0.1\n",
      "frame: 900/3000, reward 86.5, exploration rate: 0.063\n",
      "frame: 1050/3000, reward 99.9, exploration rate: 0.04\n",
      "frame: 1200/3000, reward 104.4, exploration rate: 0.025\n",
      "frame: 1350/3000, reward 118.6, exploration rate: 0.016\n",
      "frame: 1500/3000, reward 118.6, exploration rate: 0.01\n",
      "frame: 1650/3000, reward 132.6, exploration rate: 0.0063\n",
      "frame: 1800/3000, reward 117.8, exploration rate: 0.004\n",
      "frame: 1950/3000, reward 121.9, exploration rate: 0.0025\n",
      "frame: 2100/3000, reward 118.1, exploration rate: 0.0016\n",
      "frame: 2250/3000, reward 118.1, exploration rate: 0.001\n",
      "frame: 2400/3000, reward 126.2, exploration rate: 0.00063\n",
      "frame: 2550/3000, reward 128.2, exploration rate: 0.0004\n",
      "frame: 2700/3000, reward 129.9, exploration rate: 0.00025\n",
      "frame: 2850/3000, reward 124.7, exploration rate: 0.00016\n",
      "frame: 3000/3000, reward 132.8, exploration rate: 0.0001\n"
     ]
    },
    {
     "data": {
      "text/plain": [
       "[<matplotlib.lines.Line2D at 0x137217c10>]"
      ]
     },
     "execution_count": 280,
     "metadata": {},
     "output_type": "execute_result"
    },
    {
     "data": {
      "image/png": "[encoded data removed]",
      "text/plain": [
       "<matplotlib.figure.Figure at 0x136cc8d90>"
      ]
     },
     "metadata": {},
     "output_type": "display_data"
    }
   ],
   "source": [
    "params = LearningParameters(env.observation_space.shape[0], env.action_space.n, 3000)\n",
    "trained_agent, rewards = train(env, PolicyGradientAgent(params), params)\n",
    "# trained_agent, rewards = train(env, DQNAgent(params), params)\n",
    "plt.plot(rewards)"
   ]
  },
  {
   "cell_type": "code",
   "execution_count": 289,
   "metadata": {},
   "outputs": [
    {
     "name": "stdout",
     "output_type": "stream",
     "text": [
      "score: 199\n"
     ]
    }
   ],
   "source": [
    "evaluate(env, trained_agent, params, False, 500)"
   ]
  }
 ],
 "metadata": {
  "kernelspec": {
   "display_name": "Python 2",
   "language": "python",
   "name": "python2"
  },
  "language_info": {
   "codemirror_mode": {
    "name": "ipython",
    "version": 2
   },
   "file_extension": ".py",
   "mimetype": "text/x-python",
   "name": "python",
   "nbconvert_exporter": "python",
   "pygments_lexer": "ipython2",
   "version": "2.7.10"
  }
 },
 "nbformat": 4,
 "nbformat_minor": 2
}

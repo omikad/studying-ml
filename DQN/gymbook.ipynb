{
 "cells": [
  {
   "cell_type": "code",
   "execution_count": 1,
   "metadata": {},
   "outputs": [
    {
     "name": "stderr",
     "output_type": "stream",
     "text": [
      "Using TensorFlow backend.\n"
     ]
    }
   ],
   "source": [
    "%matplotlib inline\n",
    "import gym\n",
    "import math\n",
    "import matplotlib.pyplot as plt\n",
    "import numpy as np\n",
    "from collections import deque\n",
    "from IPython.display import display\n",
    "from JSAnimation.IPython_display import display_animation\n",
    "from keras.models import Sequential\n",
    "from keras.layers import Dense\n",
    "from keras.optimizers import Adam\n",
    "from matplotlib import animation\n",
    "from scipy import stats"
   ]
  },
  {
   "cell_type": "code",
   "execution_count": 2,
   "metadata": {
    "collapsed": true
   },
   "outputs": [],
   "source": [
    "def display_frames_as_gif(frames):\n",
    "    \"\"\"\n",
    "    Displays a list of frames as a gif, with controls\n",
    "    \"\"\"\n",
    "    plt.figure(figsize=(frames[0].shape[1] / 72.0, frames[0].shape[0] / 72.0), dpi = 72)\n",
    "    patch = plt.imshow(frames[0])\n",
    "    plt.axis('off')\n",
    "\n",
    "    def animate(i):\n",
    "        patch.set_data(frames[i])\n",
    "\n",
    "    anim = animation.FuncAnimation(plt.gcf(), animate, frames = len(frames), interval=50)\n",
    "    display(display_animation(anim, default_mode='loop'))"
   ]
  },
  {
   "cell_type": "code",
   "execution_count": 84,
   "metadata": {
    "collapsed": true
   },
   "outputs": [],
   "source": [
    "class LearningParameters:\n",
    "    def __init__(self, state_size, action_size, episodes_count):\n",
    "        self.state_size = state_size\n",
    "        self.action_size = action_size\n",
    "        self.episodes_count = episodes_count\n",
    "        self.max_memory_size = 10000\n",
    "        self.episodes_between_think = 5\n",
    "        \n",
    "        self.gamma = 0.95                # discount rate\n",
    "        self.epsilon = 1.0               # exploration rate\n",
    "        self.epsilon_start = self.epsilon\n",
    "        self.epsilon_min = 0.0001        # min exploration rate\n",
    "        self.learning_rate = 0.1         # learning rate for algorithm\n",
    "        self.learning_rate_model = 0.01  # learning rate for model (Adam optimizer)\n",
    "\n",
    "    def decay_exploration_rate(self, episode):\n",
    "        # Linear exploration rate decay (lerp)\n",
    "#         self.epsilon = self.epsilon_start - \\\n",
    "#                       (self.epsilon_start - self.epsilon_min) * (float(frame) / self.frames_count)\n",
    "            \n",
    "        # Exponential rate decay\n",
    "        # y(0) = start\n",
    "        # y(1) = start * x\n",
    "        # y(2) = start * x^2\n",
    "        # y(steps) = start * x^steps = min => x = (min/start) ^ (1/steps)\n",
    "        # y(t) = start * x^t\n",
    "        self.epsilon = self.epsilon_start * \\\n",
    "                       math.pow( math.pow(self.epsilon_min / self.epsilon_start, 1.0 / self.episodes_count), episode )"
   ]
  },
  {
   "cell_type": "code",
   "execution_count": 60,
   "metadata": {
    "collapsed": true
   },
   "outputs": [],
   "source": [
    "def train_reward_is_discounted_predicted(env, agent, params):\n",
    "    rewards = []\n",
    "    \n",
    "    all_replays = []\n",
    "    \n",
    "    for episode in range(params.episodes_count):\n",
    "        state = np.reshape(env.reset(), [1, params.state_size])        \n",
    "        frame = 0\n",
    "        \n",
    "        replays = []\n",
    "        \n",
    "        while True:\n",
    "            action = agent.act(state)\n",
    "            next_state, _, done, _ = env.step(action)\n",
    "            next_state = np.reshape(next_state, [1, params.state_size])\n",
    "    \n",
    "            if done:\n",
    "                break\n",
    "\n",
    "            replays.append((state, action, next_state))\n",
    "            frame += 1\n",
    "            state = next_state\n",
    "            \n",
    "        all_replays.append(replays)\n",
    "            \n",
    "        rewards.append(len(replays))\n",
    "            \n",
    "        if (episode + 1) % (params.episodes_count / 20) == 0:\n",
    "            print(\"episode: {}/{}, reward {}, exploration rate: {:.2}\"\n",
    "              .format(episode + 1, params.episodes_count, np.mean(rewards[-10:]), params.epsilon))\n",
    "            \n",
    "        if (episode + 1) % params.episodes_between_think == 0:\n",
    "            agent.memory.clear()\n",
    "            for replays in all_replays:\n",
    "                reward_value = 0\n",
    "                for index in reversed(range(len(replays))):\n",
    "                    state, action, next_state = replays[index]\n",
    "                    reward_value = reward_value * params.gamma + agent.model.predict(state)[0][action]\n",
    "                    agent.remember(state, action, reward_value, next_state)\n",
    "            agent.think(32)\n",
    "        \n",
    "        params.decay_exploration_rate(episode)\n",
    "\n",
    "    return agent, rewards"
   ]
  },
  {
   "cell_type": "markdown",
   "metadata": {},
   "source": [
    "## Action is added to input as OHE"
   ]
  },
  {
   "cell_type": "code",
   "execution_count": 107,
   "metadata": {
    "collapsed": true
   },
   "outputs": [],
   "source": [
    "class ActionAsInputAgent:\n",
    "    def __init__(self, params):\n",
    "        self.params = params\n",
    "        self.memory = deque(maxlen=self.params.max_memory_size)\n",
    "        self.model = self._build_model()\n",
    "        \n",
    "    def _build_model(self):\n",
    "        model = Sequential()\n",
    "        model.add(Dense(20, input_dim=self.params.state_size + self.params.action_size, activation='relu'))\n",
    "#         model.add(Dense(20, activation='relu', kernel_initializer='uniform'))\n",
    "        model.add(Dense(1, activation='linear'))\n",
    "        model.compile(loss='mse', optimizer=Adam(lr=self.params.learning_rate_model))\n",
    "        return model\n",
    "\n",
    "    def remember(self, state, action, reward, next_state):\n",
    "        self.memory.append((state, action, reward, next_state))\n",
    "\n",
    "    def act(self, state):\n",
    "        if np.random.rand() <= self.params.epsilon:\n",
    "            return np.random.randint(0, self.params.action_size)\n",
    "        return self.act_greedy(state)\n",
    "    \n",
    "    def act_greedy(self, state):\n",
    "        X = np.resize(state[0], (1, self.params.state_size + self.params.action_size))\n",
    "        X[0, self.params.state_size:] = 0\n",
    "        rewards = np.zeros((self.params.action_size))\n",
    "        for i in range(self.params.action_size):\n",
    "            X[0, self.params.state_size + i] = 1\n",
    "            rewards[i] = self.model.predict(X)[0]\n",
    "            X[0, self.params.state_size + i] = 0\n",
    "        return np.argmax(rewards)\n",
    "\n",
    "    def think(self, batch_size):\n",
    "        cnt = len(self.memory)\n",
    "        X = np.zeros((cnt, self.params.state_size + self.params.action_size))\n",
    "        Y = np.zeros((cnt, 1))\n",
    "        for i in range(cnt):\n",
    "            state, action, reward, next_state = self.memory[i]\n",
    "            state = np.resize(state[0], (self.params.state_size + self.params.action_size))\n",
    "            state[self.params.state_size:] = 0\n",
    "            state[self.params.state_size + action] = 1\n",
    "            X[i], Y[i] = state, reward\n",
    "        self.model.fit(X, Y, batch_size=batch_size, epochs=1, verbose=0)\n",
    "\n",
    "    def load(self, name):\n",
    "        self.model.load_weights(name)\n",
    "\n",
    "    def save(self, name):\n",
    "        self.model.save_weights(name)"
   ]
  },
  {
   "cell_type": "markdown",
   "metadata": {},
   "source": [
    "## Policy Gradient\n",
    "* Doesn't work with if predict immediate reward (method `train`)"
   ]
  },
  {
   "cell_type": "code",
   "execution_count": 81,
   "metadata": {
    "collapsed": true
   },
   "outputs": [],
   "source": [
    "class PolicyGradientAgent:\n",
    "    def __init__(self, params):\n",
    "        self.params = params\n",
    "        self.memory = deque(maxlen=self.params.max_memory_size)\n",
    "        self.model = self._build_model()\n",
    "        \n",
    "        X = np.random.uniform(-1.0, 1.0, (5000, self.params.state_size))\n",
    "        Y = np.random.uniform(-0.0001, 0.0001, (5000, self.params.action_size))\n",
    "        self.model.fit(X, Y, epochs=1, verbose=0)\n",
    "\n",
    "    def _build_model(self):\n",
    "        model = Sequential()\n",
    "        model.add(Dense(20, input_dim=self.params.state_size, activation='relu'))\n",
    "#         model.add(Dense(20, activation='relu', kernel_initializer='uniform'))\n",
    "        model.add(Dense(self.params.action_size, activation='linear'))\n",
    "        model.compile(loss='mse', optimizer=Adam(lr=self.params.learning_rate_model))\n",
    "        return model\n",
    "\n",
    "    def remember(self, state, action, reward, next_state):\n",
    "        self.memory.append((state, action, reward, next_state))\n",
    "\n",
    "    def act(self, state):\n",
    "        if np.random.rand() <= self.params.epsilon:\n",
    "            return np.random.randint(0, self.params.action_size)\n",
    "        return self.act_greedy(state)\n",
    "    \n",
    "    def act_greedy(self, state):\n",
    "        act_values = self.model.predict(state)[0]\n",
    "        return np.argmax(act_values)\n",
    "\n",
    "    def think(self, batch_size):\n",
    "        cnt = len(self.memory)\n",
    "        X = np.zeros((cnt, self.params.state_size))\n",
    "        Y = np.zeros((cnt, self.params.action_size))\n",
    "        for i in range(cnt):\n",
    "            state, action, reward, next_state = self.memory[i]\n",
    "            target = self.model.predict(state)[0]\n",
    "            target[action] = reward\n",
    "            X[i], Y[i] = state, target\n",
    "        self.model.fit(X, Y, batch_size=batch_size, epochs=1, verbose=0)\n",
    "\n",
    "    def load(self, name):\n",
    "        self.model.load_weights(name)\n",
    "\n",
    "    def save(self, name):\n",
    "        self.model.save_weights(name)"
   ]
  },
  {
   "cell_type": "code",
   "execution_count": 5,
   "metadata": {
    "collapsed": true
   },
   "outputs": [],
   "source": [
    "class DQNAgent:\n",
    "    def __init__(self, params):\n",
    "        self.params = params\n",
    "        self.memory = deque(maxlen=self.params.max_memory_size)\n",
    "        self.model = self._build_model()\n",
    "\n",
    "    def _build_model(self):\n",
    "        # Neural Net for Deep-Q learning Model\n",
    "        model = Sequential()\n",
    "        model.add(Dense(24, input_dim=self.params.state_size, activation='relu'))\n",
    "#         model.add(Dense(20, activation='relu', kernel_initializer='uniform'))\n",
    "        model.add(Dense(self.params.action_size, activation='linear'))\n",
    "        model.compile(loss='mse', optimizer=Adam(lr=self.params.learning_rate_model))\n",
    "        return model\n",
    "\n",
    "    def remember(self, state, action, reward, next_state):\n",
    "        self.memory.append((state, action, reward, next_state))\n",
    "\n",
    "    def act(self, state):\n",
    "        if np.random.rand() <= self.params.epsilon:\n",
    "            return np.random.randint(0, self.params.action_size)\n",
    "        return self.act_greedy(state)\n",
    "    \n",
    "    def act_greedy(self, state):\n",
    "        act_values = self.model.predict(state)\n",
    "        return np.argmax(act_values[0])\n",
    "\n",
    "    def think(self, batch_size):\n",
    "        cnt = len(self.memory)\n",
    "        X = np.zeros((cnt, self.params.state_size))\n",
    "        Y = np.zeros((cnt, self.params.action_size))\n",
    "        for i in range(cnt):\n",
    "            state, action, reward, next_state = self.memory[i]\n",
    "            target = self.model.predict(state)[0]\n",
    "            target[action] = reward + self.params.gamma * \\\n",
    "                            np.amax(self.model.predict(next_state)[0])\n",
    "            X[i], Y[i] = state, target\n",
    "        self.model.fit(X, Y, batch_size=batch_size, epochs=1, verbose=0)"
   ]
  },
  {
   "cell_type": "code",
   "execution_count": 110,
   "metadata": {
    "collapsed": true
   },
   "outputs": [],
   "source": [
    "def train_reward_is_time(env, agent, params):\n",
    "    \"\"\"Ignore reward from the env, agent will be trained to increase total time played\"\"\"\n",
    "    rewards = []\n",
    "    \n",
    "    all_replays = []\n",
    "    \n",
    "    for episode in range(params.episodes_count):\n",
    "        state = np.reshape(env.reset(), [1, params.state_size])        \n",
    "        frame = 0\n",
    "        \n",
    "        states = []\n",
    "        replays = []\n",
    "        \n",
    "        while True:\n",
    "            action = agent.act(state)\n",
    "            next_state, _, done, _ = env.step(action)\n",
    "            next_state = np.reshape(next_state, [1, params.state_size])\n",
    "    \n",
    "            if done:\n",
    "                break\n",
    "\n",
    "            states.append(state[0])\n",
    "            replays.append((state, action, next_state))\n",
    "            frame += 1\n",
    "            state = next_state\n",
    "        \n",
    "#         states = np.array(states)\n",
    "#         predicted = agent.model.predict(states)\n",
    "#         reward_value = 0.0\n",
    "#         for index in reversed(range(len(replays))):\n",
    "#             state, action, next_state = replays[index]\n",
    "#             reward_value = reward_value * params.gamma + predicted[index, action]\n",
    "#             agent.remember(state, action, reward_value, next_state)\n",
    "        \n",
    "        for index, replay in enumerate(replays):\n",
    "            state, action, next_state = replay\n",
    "            reward_value = len(replays) - index\n",
    "            agent.remember(state, action, reward_value, next_state)\n",
    "            \n",
    "        rewards.append(len(replays))\n",
    "            \n",
    "        if (episode + 1) % (params.episodes_count / 20) == 0:\n",
    "            print(\"episode: {}/{}, reward {}, exploration rate: {:.2}\"\n",
    "              .format(episode + 1, params.episodes_count, np.mean(rewards[-10:]), params.epsilon))\n",
    "            \n",
    "        if (episode + 1) % params.episodes_between_think == 0:\n",
    "            agent.think(32)\n",
    "        \n",
    "        params.decay_exploration_rate(episode)\n",
    "\n",
    "    return agent, rewards"
   ]
  },
  {
   "cell_type": "code",
   "execution_count": 7,
   "metadata": {
    "collapsed": true
   },
   "outputs": [],
   "source": [
    "def train(env, agent, params):   \n",
    "    rewards = []\n",
    "    \n",
    "    for episode in range(params.episodes_count):\n",
    "        state = np.reshape(env.reset(), [1, params.state_size])        \n",
    "        frame = 0\n",
    "        \n",
    "        while True:\n",
    "            action = agent.act(state)\n",
    "            next_state, reward, done, _ = env.step(action)\n",
    "            next_state = np.reshape(next_state, [1, params.state_size])\n",
    "    \n",
    "            if done:\n",
    "                reward = -10\n",
    "    \n",
    "            if frame < env.spec.max_episode_steps:\n",
    "                agent.remember(state, action, reward, next_state)\n",
    "                \n",
    "            frame += 1\n",
    "            state = next_state\n",
    "            \n",
    "            if done:\n",
    "                break\n",
    "        \n",
    "        rewards.append(frame)\n",
    "            \n",
    "        if (episode + 1) % (params.episodes_count / 20) == 0:\n",
    "            print(\"episode: {}/{}, reward {}, exploration rate: {:.2}\"\n",
    "              .format(episode + 1, params.episodes_count, np.mean(rewards[-10:]), params.epsilon))\n",
    "            \n",
    "        if (episode + 1) % params.episodes_between_think == 0:\n",
    "            agent.think(32)\n",
    "        \n",
    "        params.decay_exploration_rate(episode)\n",
    "\n",
    "    return agent, rewards"
   ]
  },
  {
   "cell_type": "code",
   "execution_count": 8,
   "metadata": {
    "collapsed": true
   },
   "outputs": [],
   "source": [
    "def evaluate(env, agent, params, render, frames):\n",
    "    state = env.reset()\n",
    "    render_frames = []\n",
    "    for e in range(frames):\n",
    "        if render:\n",
    "            render_frames.append(env.render(mode = 'rgb_array'))\n",
    "        state = np.reshape(state, [1, params.state_size])\n",
    "        action = agent.act_greedy(state)\n",
    "        state, reward, done, _ = env.step(action)\n",
    "        if done or e == frames - 1:\n",
    "            print(\"score: {}\"\n",
    "                  .format(e))\n",
    "            break\n",
    "\n",
    "    if render:\n",
    "        env.render(close=True)\n",
    "        display_frames_as_gif(render_frames)"
   ]
  },
  {
   "cell_type": "code",
   "execution_count": null,
   "metadata": {
    "collapsed": true
   },
   "outputs": [],
   "source": [
    "# env.render(close=True)\n",
    "print(env.spec.max_episode_steps)"
   ]
  },
  {
   "cell_type": "code",
   "execution_count": 9,
   "metadata": {},
   "outputs": [
    {
     "name": "stderr",
     "output_type": "stream",
     "text": [
      "[2017-06-18 12:34:34,069] Making new env: CartPole-v1\n"
     ]
    }
   ],
   "source": [
    "env = gym.make('CartPole-v1')"
   ]
  },
  {
   "cell_type": "code",
   "execution_count": 111,
   "metadata": {},
   "outputs": [
    {
     "name": "stdout",
     "output_type": "stream",
     "text": [
      "episode: 5/100, reward 28.8, exploration rate: 0.76\n",
      "episode: 10/100, reward 27.6, exploration rate: 0.48\n",
      "episode: 15/100, reward 21.8, exploration rate: 0.3\n",
      "episode: 20/100, reward 14.0, exploration rate: 0.19\n",
      "episode: 25/100, reward 9.7, exploration rate: 0.12\n",
      "episode: 30/100, reward 9.0, exploration rate: 0.076\n",
      "episode: 35/100, reward 9.9, exploration rate: 0.048\n",
      "episode: 40/100, reward 9.9, exploration rate: 0.03\n",
      "episode: 45/100, reward 9.0, exploration rate: 0.019\n",
      "episode: 50/100, reward 110.3, exploration rate: 0.012\n",
      "episode: 55/100, reward 125.0, exploration rate: 0.0076\n",
      "episode: 60/100, reward 49.2, exploration rate: 0.0048\n",
      "episode: 65/100, reward 58.5, exploration rate: 0.003\n",
      "episode: 70/100, reward 196.4, exploration rate: 0.0019\n",
      "episode: 75/100, reward 375.8, exploration rate: 0.0012\n",
      "episode: 80/100, reward 448.7, exploration rate: 0.00076\n",
      "episode: 85/100, reward 468.9, exploration rate: 0.00048\n",
      "episode: 90/100, reward 428.8, exploration rate: 0.0003\n",
      "episode: 95/100, reward 313.1, exploration rate: 0.00019\n",
      "episode: 100/100, reward 344.7, exploration rate: 0.00012\n"
     ]
    },
    {
     "data": {
      "text/plain": [
       "[<matplotlib.lines.Line2D at 0x129f776d0>]"
      ]
     },
     "execution_count": 111,
     "metadata": {},
     "output_type": "execute_result"
    },
    {
     "data": {
      "image/png": "[encoded data removed]",
      "text/plain": [
       "<matplotlib.figure.Figure at 0x12d5c9dd0>"
      ]
     },
     "metadata": {},
     "output_type": "display_data"
    }
   ],
   "source": [
    "params = LearningParameters(env.observation_space.shape[0], env.action_space.n, 100)\n",
    "# trained_agent, rewards = train_reward_is_time(env, PolicyGradientAgent(params), params)\n",
    "# trained_agent, rewards = train(env, DQNAgent(params), params)\n",
    "trained_agent, rewards = train_reward_is_time(env, ActionAsInputAgent(params), params)\n",
    "plt.plot(rewards)"
   ]
  },
  {
   "cell_type": "code",
   "execution_count": 114,
   "metadata": {},
   "outputs": [
    {
     "name": "stdout",
     "output_type": "stream",
     "text": [
      "score: 499\n"
     ]
    }
   ],
   "source": [
    "evaluate(env, trained_agent, params, False, 500)"
   ]
  }
 ],
 "metadata": {
  "kernelspec": {
   "display_name": "Python 2",
   "language": "python",
   "name": "python2"
  },
  "language_info": {
   "codemirror_mode": {
    "name": "ipython",
    "version": 2
   },
   "file_extension": ".py",
   "mimetype": "text/x-python",
   "name": "python",
   "nbconvert_exporter": "python",
   "pygments_lexer": "ipython2",
   "version": "2.7.10"
  }
 },
 "nbformat": 4,
 "nbformat_minor": 2
}

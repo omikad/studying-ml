{
 "cells": [
  {
   "cell_type": "code",
   "execution_count": 1,
   "metadata": {},
   "outputs": [],
   "source": [
    "# https://r2rt.com/recurrent-neural-networks-in-tensorflow-i.html\n",
    "\n",
    "import numpy as np\n",
    "import tensorflow as tf\n",
    "%matplotlib inline\n",
    "import matplotlib.pyplot as plt"
   ]
  },
  {
   "cell_type": "code",
   "execution_count": 3,
   "metadata": {},
   "outputs": [
    {
     "name": "stdout",
     "output_type": "stream",
     "text": [
      "(array([4., 1., 0.]), 0, array([0., 3., 1.]))\n",
      "(array([0., 3., 1.]), 1, array([1., 1., 2.]))\n",
      "(array([1., 1., 2.]), 0, array([1., 0., 3.]))\n",
      "(array([1., 0., 3.]), 0, array([0., 1., 1.]))\n",
      "(array([0., 1., 1.]), 0, array([1., 3., 2.]))\n",
      "(array([1., 3., 2.]), 1, array([0., 2., 0.]))\n",
      "(array([0., 2., 0.]), 1, array([3., 0., 2.]))\n",
      "(array([3., 0., 2.]), 0, array([3., 1., 3.]))\n",
      "(array([3., 1., 3.]), 0, array([2., 2., 0.]))\n",
      "(array([2., 2., 0.]), 1, array([0., 3., 4.]))\n"
     ]
    }
   ],
   "source": [
    "np.random.seed(42)\n",
    "\n",
    "def get_random_seq_complex():\n",
    "    K = 5\n",
    "    arr = [np.floor(np.random.rand(3) * 5) for _ in range(K)]\n",
    "    \n",
    "    picks = [\n",
    "        [0, -1],\n",
    "        [0, -2],\n",
    "        [-1, -2],\n",
    "        [-2, -3],\n",
    "        [-3, -4],\n",
    "    ]\n",
    "    \n",
    "    prev = K - 1\n",
    "    prev_a = 0\n",
    "    \n",
    "    while True:\n",
    "        a = 0 if np.random.rand() < 0.5 else 1\n",
    "        \n",
    "        ctrl = arr[prev][0]\n",
    "        pick = picks[int(ctrl)]\n",
    "        \n",
    "        item = np.array([\n",
    "            arr[(prev + K + pick[a]) % K][1],\n",
    "            arr[(prev + K + pick[1 - a]) % K][2],\n",
    "            np.floor(np.random.rand() * 5)\n",
    "        ])\n",
    "\n",
    "        yield (arr[prev], a, item)\n",
    "    \n",
    "        prev = (prev + 1) % K\n",
    "\n",
    "        arr[prev] = item\n",
    "        \n",
    "        prev_a = a\n",
    "\n",
    "generator = get_random_seq_complex()\n",
    "for _ in range(10):\n",
    "    print(next(generator))"
   ]
  },
  {
   "cell_type": "code",
   "execution_count": 4,
   "metadata": {},
   "outputs": [
    {
     "name": "stdout",
     "output_type": "stream",
     "text": [
      "(array([0., 0., 1., 0.]), 3, array([1., 0., 0., 0.]))\n",
      "(array([1., 0., 0., 0.]), 0, array([0., 0., 1., 0.]))\n",
      "(array([0., 0., 1., 0.]), 2, array([0., 0., 1., 0.]))\n",
      "(array([0., 0., 1., 0.]), 1, array([1., 0., 0., 0.]))\n",
      "(array([1., 0., 0., 0.]), 2, array([1., 0., 0., 0.]))\n",
      "(array([1., 0., 0., 0.]), 2, array([1., 0., 0., 0.]))\n",
      "(array([1., 0., 0., 0.]), 2, array([1., 0., 0., 0.]))\n",
      "(array([1., 0., 0., 0.]), 2, array([1., 0., 0., 0.]))\n",
      "(array([1., 0., 0., 0.]), 3, array([1., 0., 0., 0.]))\n",
      "(array([1., 0., 0., 0.]), 3, array([0., 0., 0., 1.]))\n",
      "(array([0., 0., 0., 1.]), 3, array([0., 0., 1., 0.]))\n",
      "(array([0., 0., 1., 0.]), 1, array([1., 0., 0., 0.]))\n",
      "(array([1., 0., 0., 0.]), 0, array([0., 0., 1., 0.]))\n",
      "(array([0., 0., 1., 0.]), 1, array([0., 0., 1., 0.]))\n",
      "(array([0., 0., 1., 0.]), 3, array([0., 0., 0., 1.]))\n"
     ]
    }
   ],
   "source": [
    "np.random.seed(42)\n",
    "\n",
    "S = 4\n",
    "\n",
    "def to_ohe(n, max_n):\n",
    "    arr = np.zeros(max_n)\n",
    "    arr[n] = 1\n",
    "    return arr\n",
    "\n",
    "# echo\n",
    "def get_random_seq():\n",
    "    K = 5\n",
    "    arr = [np.random.randint(0, S) for _ in range(K)]\n",
    "#     print(arr)\n",
    "    \n",
    "    picks = [-1, -2, 0]\n",
    "    \n",
    "    prev = K - 1\n",
    "    while True:\n",
    "        a = int(np.random.randint(0, 4))\n",
    "        \n",
    "        item = arr[(prev + K + picks[a]) % K] if a < 3 else np.random.randint(0, S)\n",
    "        \n",
    "        yield (to_ohe(arr[prev], S), a, to_ohe(item, S))\n",
    "    \n",
    "        prev = (prev + 1) % K\n",
    "\n",
    "        arr[prev] = item\n",
    "\n",
    "generator = get_random_seq()\n",
    "for _ in range(15):\n",
    "    print(next(generator))"
   ]
  },
  {
   "cell_type": "code",
   "execution_count": 5,
   "metadata": {},
   "outputs": [
    {
     "name": "stdout",
     "output_type": "stream",
     "text": [
      "(array([[[0., 0., 1., 0.],\n",
      "        [1., 0., 0., 0.],\n",
      "        [0., 0., 1., 0.]],\n",
      "\n",
      "       [[0., 0., 1., 0.],\n",
      "        [1., 0., 0., 0.],\n",
      "        [1., 0., 0., 0.]]]), array([[3., 0., 2.],\n",
      "       [1., 2., 2.]]), array([[[1., 0., 0., 0.],\n",
      "        [0., 0., 1., 0.],\n",
      "        [0., 0., 1., 0.]],\n",
      "\n",
      "       [[1., 0., 0., 0.],\n",
      "        [1., 0., 0., 0.],\n",
      "        [1., 0., 0., 0.]]]))\n"
     ]
    }
   ],
   "source": [
    "def get_rnn_batches(generator, B, rnn_steps):\n",
    "    while True:\n",
    "        X  = np.zeros((B, rnn_steps, S))\n",
    "        A  = np.zeros((B, rnn_steps))\n",
    "        NX = np.zeros((B, rnn_steps, S))\n",
    "\n",
    "        for i in range(B * rnn_steps):\n",
    "            s, a, ns = next(generator)\n",
    "            \n",
    "            bi = i // rnn_steps\n",
    "            si = i % rnn_steps\n",
    "\n",
    "            X[bi, si, :] = s\n",
    "            A[bi, si] = a\n",
    "            NX[bi, si, :] = ns\n",
    "\n",
    "        yield X, A, NX\n",
    "    \n",
    "np.random.seed(42)\n",
    "generator = get_rnn_batches(get_random_seq(), 2, 3)\n",
    "for _ in range(1):\n",
    "    print(next(generator))"
   ]
  },
  {
   "cell_type": "code",
   "execution_count": 6,
   "metadata": {},
   "outputs": [
    {
     "name": "stdout",
     "output_type": "stream",
     "text": [
      "\n",
      "[[0. 0. 1. 0.]\n",
      " [0. 0. 1. 0.]\n",
      " [0. 0. 1. 0.]\n",
      " [0. 0. 1. 0.]]\n",
      "[3. 0. 2. 0.]\n",
      "[[[ 0.09649572  0.1229775   0.6197754  -0.32674837]]]\n",
      "[0. 0. 1. 0.]\n"
     ]
    },
    {
     "data": {
      "image/png": "[encoded data removed]",
      "text/plain": [
       "<matplotlib.figure.Figure at 0x11b55e790>"
      ]
     },
     "metadata": {},
     "output_type": "display_data"
    }
   ],
   "source": [
    "def build_graph(S, A, rnn_steps, rnn_state_size):\n",
    "    rnn_s  = tf.placeholder(\"float\", [None, None, S], name=\"Placeholder_rnn_s\")\n",
    "    rnn_ns = tf.placeholder(\"float\", [None, None, S], name=\"Placeholder_rnn_ns\")\n",
    "    rnn_a  = tf.placeholder(\"int32\", [None, None], name=\"Placeholder_rnn_a\")\n",
    "\n",
    "#     zeros_dims = tf.stack([tf.shape(rnn_s)[0], rnn_state_size])\n",
    "#     rnn_is = tf.fill(zeros_dims, 0.0, name=\"RNN_init_state\")\n",
    "\n",
    "    action_ohe = tf.one_hot(rnn_a, depth=A)\n",
    "    state_and_action = tf.concat([rnn_s, action_ohe], axis=2)\n",
    "\n",
    "    rnn_cell = tf.contrib.rnn.LSTMCell(\n",
    "        rnn_state_size,\n",
    "        num_proj=S,\n",
    "        initializer=tf.random_uniform_initializer(-1, 1))\n",
    "\n",
    "    rnn_is = rnn_cell.zero_state(tf.shape(rnn_s)[0], tf.float32)\n",
    "#     LSTMStateTuple(\n",
    "#         c=<tf.Tensor 'LSTMCellZeroState/zeros:0' shape=(?, rnn_state_size) dtype=float32>,\n",
    "#         h=<tf.Tensor 'LSTMCellZeroState/zeros_1:0' shape=(?, S) dtype=float32>)\n",
    "    \n",
    "#     rnn_layers = [tf.nn.rnn_cell.LSTMCell(size) for size in [10, 20]]\n",
    "#     rnn_cell = tf.nn.rnn_cell.MultiRNNCell(rnn_layers)\n",
    "\n",
    "#     rnn_cell = tf.nn.rnn_cell.BasicRNNCell(rnn_state_size)\n",
    "#     rnn_cell = tf.contrib.rnn.OutputProjectionWrapper(rnn_cell, S)\n",
    "\n",
    "    predictions, rnn_final_state = tf.nn.dynamic_rnn(rnn_cell, state_and_action,\n",
    "                                       initial_state=(rnn_is),\n",
    "                                       dtype=tf.float32)\n",
    "\n",
    "    rnn_cost = tf.reduce_mean(tf.squared_difference(predictions, rnn_ns))\n",
    "    \n",
    "    return {\n",
    "        'rnn_s': rnn_s,\n",
    "        'rnn_ns': rnn_ns,\n",
    "        'rnn_a': rnn_a,\n",
    "        'rnn_is': rnn_is,\n",
    "        'rnn_final_state': rnn_final_state,\n",
    "        'rnn_cost': rnn_cost,\n",
    "        'rnn_predictions': predictions,\n",
    "        'rnn_train_op': tf.train.GradientDescentOptimizer(learning_rate=learning_rate) \\\n",
    "            .minimize(rnn_cost),\n",
    "    }\n",
    "\n",
    "def train():\n",
    "#     np.random.seed(42)\n",
    "    \n",
    "    B = 32\n",
    "    S = 4\n",
    "    A = 4\n",
    "    rnn_state_size = 100\n",
    "    rnn_steps = 5\n",
    "    \n",
    "    tf.reset_default_graph()\n",
    "    graph = build_graph(S, A, rnn_steps, rnn_state_size)\n",
    "    \n",
    "    tf_rnn_s = graph['rnn_s']\n",
    "    tf_rnn_ns = graph['rnn_ns']\n",
    "    tf_rnn_a = graph['rnn_a']\n",
    "    tf_rnn_is = graph['rnn_is']\n",
    "    tf_rnn_final_state = graph['rnn_final_state']\n",
    "    tf_rnn_cost = graph['rnn_cost']\n",
    "    tf_rnn_predictions = graph['rnn_predictions']\n",
    "    tf_rnn_train_op = graph['rnn_train_op']\n",
    "    \n",
    "    with tf.Session() as session:\n",
    "        session.run(tf.global_variables_initializer())\n",
    "        \n",
    "        generator = get_rnn_batches(get_random_seq(), B, rnn_steps)\n",
    "        \n",
    "        costs = []\n",
    "\n",
    "        for train_step in range(steps_to_train):\n",
    "            # TODO: Check to put it outside of batch loop\n",
    "            RNN_State = (np.zeros((B, rnn_state_size)), np.zeros((B, S)))\n",
    "            X, A, NX = next(generator)\n",
    "        \n",
    "            cost, RNN_State, _ = \\\n",
    "                session.run([tf_rnn_cost, tf_rnn_final_state, tf_rnn_train_op],\n",
    "                          feed_dict={tf_rnn_s: X,\n",
    "                                     tf_rnn_ns: NX,\n",
    "                                     tf_rnn_a: A,\n",
    "                                     tf_rnn_is: RNN_State})\n",
    "            costs.append(cost)  \n",
    "            \n",
    "            if train_step == steps_to_train - 1:\n",
    "                \n",
    "                last_input = np.zeros((1, 1, S))\n",
    "                last_state_c = np.zeros((1, rnn_state_size))\n",
    "                last_state_h = np.zeros((1, S))\n",
    "                last_a = np.zeros((1, 1))\n",
    "                \n",
    "#                 print(X.shape)          # (32, 3, 3)\n",
    "#                 print(RNN_State.shape)  # (32, 10)\n",
    "#                 print(A.shape)          # (32, 3)\n",
    "                last_input[0, 0, :] = X[-1, -1, :]\n",
    "                last_state_c[0, :] = RNN_State[0][-1, :]\n",
    "                last_state_h[0, :] = RNN_State[1][-1, :]\n",
    "                last_a[0, 0] = A[-1, -1]\n",
    "                \n",
    "                pred, cell_state = session.run(\n",
    "                    [tf_rnn_predictions, tf_rnn_final_state],\n",
    "                      feed_dict={\n",
    "                          tf_rnn_s: last_input,\n",
    "                          tf_rnn_a: last_a,\n",
    "                          tf_rnn_is: (last_state_c, last_state_h),\n",
    "                      })\n",
    "                \n",
    "                print('')\n",
    "                print(X[-1, -4:, :])\n",
    "                print(A[-1, -4:])\n",
    "                print(pred)\n",
    "                print(NX[-1, -1, :])\n",
    "            \n",
    "        plt.plot(costs)\n",
    "            \n",
    "learning_rate = 0.03\n",
    "steps_to_train = 1000\n",
    "train()"
   ]
  },
  {
   "cell_type": "code",
   "execution_count": null,
   "metadata": {},
   "outputs": [],
   "source": []
  },
  {
   "cell_type": "code",
   "execution_count": 137,
   "metadata": {},
   "outputs": [],
   "source": [
    "?tf.TensorArray"
   ]
  },
  {
   "cell_type": "code",
   "execution_count": null,
   "metadata": {},
   "outputs": [],
   "source": []
  },
  {
   "cell_type": "code",
   "execution_count": null,
   "metadata": {},
   "outputs": [],
   "source": []
  },
  {
   "cell_type": "code",
   "execution_count": null,
   "metadata": {},
   "outputs": [],
   "source": []
  },
  {
   "cell_type": "code",
   "execution_count": null,
   "metadata": {},
   "outputs": [],
   "source": []
  },
  {
   "cell_type": "code",
   "execution_count": 3,
   "metadata": {},
   "outputs": [],
   "source": [
    "def gen_data(size=1000000):\n",
    "    X = np.array(np.random.choice(2, size=(size,)))\n",
    "    Y = []\n",
    "    for i in range(size):\n",
    "        threshold = 0.5\n",
    "        if X[i-3] == 1:\n",
    "            threshold += 0.5\n",
    "        if X[i-8] == 1:\n",
    "            threshold -= 0.25\n",
    "        if np.random.rand() > threshold:\n",
    "            Y.append(0)\n",
    "        else:\n",
    "            Y.append(1)\n",
    "    return X, np.array(Y)\n",
    "\n",
    "# adapted from https://github.com/tensorflow/tensorflow/blob/master/tensorflow/models/rnn/ptb/reader.py\n",
    "def gen_batch(raw_data, batch_size, num_steps):\n",
    "    raw_x, raw_y = raw_data\n",
    "    data_length = len(raw_x)\n",
    "\n",
    "    # partition raw data into batches and stack them vertically in a data matrix\n",
    "    batch_partition_length = data_length // batch_size\n",
    "    data_x = np.zeros([batch_size, batch_partition_length], dtype=np.int32)\n",
    "    data_y = np.zeros([batch_size, batch_partition_length], dtype=np.int32)\n",
    "    for i in range(batch_size):\n",
    "        data_x[i] = raw_x[batch_partition_length * i:batch_partition_length * (i + 1)]\n",
    "        data_y[i] = raw_y[batch_partition_length * i:batch_partition_length * (i + 1)]\n",
    "    # further divide batch partitions into num_steps for truncated backprop\n",
    "    epoch_size = batch_partition_length // num_steps\n",
    "\n",
    "    for i in range(epoch_size):\n",
    "        x = data_x[:, i * num_steps:(i + 1) * num_steps]\n",
    "        y = data_y[:, i * num_steps:(i + 1) * num_steps]\n",
    "        yield (x, y)\n",
    "\n",
    "def gen_epochs(n, num_steps):\n",
    "    for i in range(n):\n",
    "        yield gen_batch(gen_data(), batch_size, num_steps)"
   ]
  },
  {
   "cell_type": "code",
   "execution_count": 20,
   "metadata": {},
   "outputs": [
    {
     "name": "stdout",
     "output_type": "stream",
     "text": [
      "(array([1, 0, 1, 1, 0, 0, 1, 1, 1, 1, 0, 1, 1, 0, 1, 0, 0, 1, 0, 0, 0, 1,\n",
      "       1, 0, 1, 0, 0, 0, 1, 0, 0, 0, 0, 1, 0, 0, 0, 1, 1, 1, 1, 0, 0, 0,\n",
      "       0, 1, 1, 0, 0, 0, 1, 1, 1, 1, 0, 1, 1, 0, 0, 0, 0, 1, 1, 0, 1, 1,\n",
      "       0, 1, 0, 1, 1, 1, 1, 0, 1, 0, 0, 1, 1, 1, 0, 1, 1, 1, 0, 1, 1, 0,\n",
      "       1, 1, 0, 1, 0, 0, 0, 0, 0, 1, 1, 0]), array([1, 1, 1, 1, 0, 1, 0, 1, 1, 1, 1, 1, 1, 1, 1, 0, 0, 1, 0, 1, 0, 0,\n",
      "       1, 0, 1, 1, 1, 1, 1, 0, 0, 1, 0, 1, 1, 0, 1, 1, 1, 0, 1, 1, 1, 1,\n",
      "       1, 0, 0, 1, 1, 1, 0, 1, 0, 1, 1, 1, 1, 1, 1, 0, 0, 1, 0, 0, 1, 1,\n",
      "       0, 1, 1, 1, 0, 0, 1, 0, 1, 1, 0, 1, 0, 0, 1, 1, 1, 1, 1, 1, 1, 0,\n",
      "       1, 0, 0, 1, 1, 1, 1, 1, 1, 0, 0, 0]))\n"
     ]
    }
   ],
   "source": [
    "print(gen_data(100))"
   ]
  },
  {
   "cell_type": "code",
   "execution_count": 19,
   "metadata": {},
   "outputs": [
    {
     "name": "stdout",
     "output_type": "stream",
     "text": [
      "[[0 1 0 0 0]\n",
      " [1 0 1 0 1]\n",
      " [1 0 1 1 1]]\n",
      "[[1 1 1 1 1]\n",
      " [1 0 0 1 1]\n",
      " [1 0 1 0 1]]\n",
      "\n",
      "[[1 1 1 1 0]\n",
      " [0 0 0 1 1]\n",
      " [1 0 1 1 1]]\n",
      "[[0 0 0 1 1]\n",
      " [1 0 1 0 0]\n",
      " [1 1 1 1 0]]\n",
      "\n",
      "[[1 0 1 0 0]\n",
      " [1 1 0 0 1]\n",
      " [0 0 1 1 1]]\n",
      "[[1 1 0 1 0]\n",
      " [1 1 1 1 1]\n",
      " [1 0 1 1 0]]\n",
      "\n",
      "[[1 1 1 1 1]\n",
      " [1 1 1 1 0]\n",
      " [1 0 1 0 0]]\n",
      "[[1 0 1 1 1]\n",
      " [1 0 1 1 1]\n",
      " [0 0 0 1 1]]\n",
      "\n",
      "[[0 0 1 0 0]\n",
      " [1 1 0 0 0]\n",
      " [0 0 1 1 1]]\n",
      "[[1 1 1 1 1]\n",
      " [1 1 0 1 1]\n",
      " [0 0 0 0 0]]\n",
      "\n",
      "[[0 1 1 1 0]\n",
      " [0 1 1 1 1]\n",
      " [1 1 1 0 0]]\n",
      "[[0 0 0 0 1]\n",
      " [0 0 0 0 1]\n",
      " [1 1 1 1 1]]\n",
      "\n"
     ]
    }
   ],
   "source": [
    "for x,y in gen_batch(gen_data(100), 3, 5):\n",
    "    print(x)\n",
    "    print(y)\n",
    "    print('')"
   ]
  },
  {
   "cell_type": "code",
   "execution_count": 4,
   "metadata": {},
   "outputs": [],
   "source": [
    "\"\"\"\n",
    "Placeholders\n",
    "\"\"\"\n",
    "\n",
    "x = tf.placeholder(tf.int32, [batch_size, num_steps], name='input_placeholder')\n",
    "y = tf.placeholder(tf.int32, [batch_size, num_steps], name='labels_placeholder')\n",
    "init_state = tf.zeros([batch_size, state_size])\n",
    "\n",
    "\"\"\"\n",
    "RNN Inputs\n",
    "\"\"\"\n",
    "\n",
    "# Turn our x placeholder into a list of one-hot tensors:\n",
    "# rnn_inputs is a list of num_steps tensors with shape [batch_size, num_classes]\n",
    "x_one_hot = tf.one_hot(x, num_classes)\n",
    "rnn_inputs = tf.unstack(x_one_hot, axis=1)"
   ]
  },
  {
   "cell_type": "code",
   "execution_count": 5,
   "metadata": {},
   "outputs": [
    {
     "name": "stdout",
     "output_type": "stream",
     "text": [
      "('x', <tf.Tensor 'input_placeholder:0' shape=(200, 5) dtype=int32>)\n",
      "('y', <tf.Tensor 'labels_placeholder:0' shape=(200, 5) dtype=int32>)\n",
      "('init_state', <tf.Tensor 'zeros:0' shape=(200, 4) dtype=float32>)\n",
      "('x_one_hot', <tf.Tensor 'one_hot:0' shape=(200, 5, 2) dtype=float32>)\n",
      "('rnn_inputs', [<tf.Tensor 'unstack:0' shape=(200, 2) dtype=float32>, <tf.Tensor 'unstack:1' shape=(200, 2) dtype=float32>, <tf.Tensor 'unstack:2' shape=(200, 2) dtype=float32>, <tf.Tensor 'unstack:3' shape=(200, 2) dtype=float32>, <tf.Tensor 'unstack:4' shape=(200, 2) dtype=float32>])\n"
     ]
    }
   ],
   "source": [
    "print('x', x)\n",
    "print('y', y)\n",
    "print('init_state', init_state)\n",
    "print('x_one_hot', x_one_hot)\n",
    "print('rnn_inputs', rnn_inputs)"
   ]
  },
  {
   "cell_type": "code",
   "execution_count": 6,
   "metadata": {},
   "outputs": [],
   "source": [
    "cell = tf.contrib.rnn.BasicRNNCell(state_size)\n",
    "rnn_outputs, final_state = tf.contrib.rnn.static_rnn(cell, rnn_inputs, initial_state=init_state)"
   ]
  },
  {
   "cell_type": "code",
   "execution_count": 7,
   "metadata": {},
   "outputs": [
    {
     "name": "stdout",
     "output_type": "stream",
     "text": [
      "('cell', <tensorflow.python.ops.rnn_cell_impl.BasicRNNCell object at 0x11d930c50>)\n",
      "('rnn_outputs', [<tf.Tensor 'rnn/basic_rnn_cell/Tanh:0' shape=(200, 4) dtype=float32>, <tf.Tensor 'rnn/basic_rnn_cell/Tanh_1:0' shape=(200, 4) dtype=float32>, <tf.Tensor 'rnn/basic_rnn_cell/Tanh_2:0' shape=(200, 4) dtype=float32>, <tf.Tensor 'rnn/basic_rnn_cell/Tanh_3:0' shape=(200, 4) dtype=float32>, <tf.Tensor 'rnn/basic_rnn_cell/Tanh_4:0' shape=(200, 4) dtype=float32>])\n",
      "('final_state', <tf.Tensor 'rnn/basic_rnn_cell/Tanh_4:0' shape=(200, 4) dtype=float32>)\n"
     ]
    }
   ],
   "source": [
    "print('cell', cell)\n",
    "print('rnn_outputs', rnn_outputs)\n",
    "print('final_state', final_state)"
   ]
  },
  {
   "cell_type": "code",
   "execution_count": 8,
   "metadata": {},
   "outputs": [],
   "source": [
    "\"\"\"\n",
    "Predictions, loss, training step\n",
    "\n",
    "Losses is similar to the \"sequence_loss\"\n",
    "function from Tensorflow's API, except that here we are using a list of 2D tensors, instead of a 3D tensor. See:\n",
    "https://github.com/tensorflow/tensorflow/blob/master/tensorflow/contrib/seq2seq/python/ops/loss.py#L30\n",
    "\"\"\"\n",
    "\n",
    "#logits and predictions\n",
    "with tf.variable_scope('softmax'):\n",
    "    W = tf.get_variable('W', [state_size, num_classes])\n",
    "    b = tf.get_variable('b', [num_classes], initializer=tf.constant_initializer(0.0))\n",
    "logits = [tf.matmul(rnn_output, W) + b for rnn_output in rnn_outputs]\n",
    "predictions = [tf.nn.softmax(logit) for logit in logits]\n",
    "\n",
    "# Turn our y placeholder into a list of labels\n",
    "y_as_list = tf.unstack(y, num=num_steps, axis=1)\n",
    "\n",
    "#losses and train_step\n",
    "losses = [tf.nn.sparse_softmax_cross_entropy_with_logits(labels=label, logits=logit) for \\\n",
    "          logit, label in zip(logits, y_as_list)]\n",
    "total_loss = tf.reduce_mean(losses)\n",
    "train_step = tf.train.AdagradOptimizer(learning_rate).minimize(total_loss)"
   ]
  },
  {
   "cell_type": "code",
   "execution_count": 9,
   "metadata": {},
   "outputs": [],
   "source": [
    "\"\"\"\n",
    "Train the network\n",
    "\"\"\"\n",
    "\n",
    "def train_network(num_epochs, num_steps, state_size=4, verbose=True):\n",
    "    with tf.Session() as sess:\n",
    "        sess.run(tf.global_variables_initializer())\n",
    "        training_losses = []\n",
    "        for idx, epoch in enumerate(gen_epochs(num_epochs, num_steps)):\n",
    "            training_loss = 0\n",
    "            training_state = np.zeros((batch_size, state_size))\n",
    "            if verbose:\n",
    "                print(\"\\nEPOCH\", idx)\n",
    "            for step, (X, Y) in enumerate(epoch):\n",
    "                tr_losses, training_loss_, training_state, _ = \\\n",
    "                    sess.run([losses,\n",
    "                              total_loss,\n",
    "                              final_state,\n",
    "                              train_step],\n",
    "                                  feed_dict={x:X, y:Y, init_state:training_state})\n",
    "                training_loss += training_loss_\n",
    "                if step % 100 == 0 and step > 0:\n",
    "                    if verbose:\n",
    "                        print(\"Average loss at step\", step,\n",
    "                              \"for last 250 steps:\", training_loss/100)\n",
    "                    training_losses.append(training_loss/100)\n",
    "                    training_loss = 0\n",
    "\n",
    "    return training_losses"
   ]
  },
  {
   "cell_type": "code",
   "execution_count": 10,
   "metadata": {},
   "outputs": [
    {
     "name": "stdout",
     "output_type": "stream",
     "text": [
      "('\\nEPOCH', 0)\n",
      "('Average loss at step', 100, 'for last 250 steps:', 0.604746658205986)\n",
      "('Average loss at step', 200, 'for last 250 steps:', 0.5271763280034065)\n",
      "('Average loss at step', 300, 'for last 250 steps:', 0.5199118518829345)\n",
      "('Average loss at step', 400, 'for last 250 steps:', 0.520693002641201)\n",
      "('Average loss at step', 500, 'for last 250 steps:', 0.5188594949245453)\n",
      "('Average loss at step', 600, 'for last 250 steps:', 0.5197544082999229)\n",
      "('Average loss at step', 700, 'for last 250 steps:', 0.5196706667542458)\n",
      "('Average loss at step', 800, 'for last 250 steps:', 0.5206723693013191)\n",
      "('Average loss at step', 900, 'for last 250 steps:', 0.5197061768174172)\n"
     ]
    },
    {
     "data": {
      "text/plain": [
       "[<matplotlib.lines.Line2D at 0x1218fe0d0>]"
      ]
     },
     "execution_count": 10,
     "metadata": {},
     "output_type": "execute_result"
    },
    {
     "data": {
      "image/png": "[encoded data removed]",
      "text/plain": [
       "<matplotlib.figure.Figure at 0x120733d50>"
      ]
     },
     "metadata": {},
     "output_type": "display_data"
    }
   ],
   "source": [
    "training_losses = train_network(1,num_steps)\n",
    "plt.plot(training_losses)"
   ]
  }
 ],
 "metadata": {
  "kernelspec": {
   "display_name": "Python 2",
   "language": "python",
   "name": "python2"
  },
  "language_info": {
   "codemirror_mode": {
    "name": "ipython",
    "version": 2
   },
   "file_extension": ".py",
   "mimetype": "text/x-python",
   "name": "python",
   "nbconvert_exporter": "python",
   "pygments_lexer": "ipython2",
   "version": "2.7.10"
  }
 },
 "nbformat": 4,
 "nbformat_minor": 2
}
